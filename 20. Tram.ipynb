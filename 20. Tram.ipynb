{
  "nbformat": 4,
  "nbformat_minor": 0,
  "metadata": {
    "colab": {
      "provenance": []
    },
    "kernelspec": {
      "name": "python3",
      "display_name": "Python 3"
    },
    "language_info": {
      "name": "python"
    }
  },
  "cells": [
    {
      "cell_type": "markdown",
      "source": [
        "#**A. Tram**\n",
        "\n",
        "**Problem Link:** *https://codeforces.com/problemset/problem/116/A*\n",
        "\n",
        "<br>\n",
        "\n",
        "*Time limit per test: 2 seconds & Memory limit per test: 256 megabytes.*\n",
        "\n",
        "*Problem:* Linear Kingdom has exactly one tram line. It has n stops, numbered from 1 to n in the order of tram's movement. At the i-th stop ai passengers exit the tram, while bi passengers enter it. The tram is empty before it arrives at the first stop. Also, when the tram arrives at the last stop, all passengers exit so that it becomes empty.\n",
        "\n",
        "Your task is to calculate the tram's minimum capacity such that the number of people inside the tram at any time never exceeds this capacity. Note that at each stop all exiting passengers exit before any entering passenger enters the tram.\n",
        "\n",
        "*Input:*\n",
        "- The first line contains a single number n (2 ≤ n ≤ 1000) — the number of the tram's stops.\n",
        "\n",
        "- Then n lines follow, each contains two integers ai and bi (0 ≤ ai, bi ≤ 1000) — the number of passengers that exits the tram at the i-th stop, and the number of passengers that enter the tram at the i-th stop. The stops are given from the first to the last stop in the order of tram's movement.\n",
        "\n",
        "- The number of people who exit at a given stop does not exceed the total number of people in the tram immediately before it arrives at the stop. More formally, . This particularly means that a1 = 0.\n",
        "- At the last stop, all the passengers exit the tram and it becomes empty. More formally, No passenger will enter the train at the last stop. That is, bn = 0.\n",
        "\n",
        "*Output:* Print a single integer denoting the minimum possible capacity of the tram (0 is allowed).\n",
        "\n",
        "##Examples:\n",
        "```\n",
        "Input:\n",
        "4\n",
        "0 3\n",
        "2 5\n",
        "4 2\n",
        "4 0\n",
        "\n",
        "Output:\n",
        "6\n",
        "```\n",
        "*Note:* For the first example, a capacity of 6 is sufficient because:\n",
        "\n",
        "- At the first stop, the number of passengers inside the tram before arriving is 0. Then, 3 passengers enter the tram, and the number of passengers inside the tram becomes 3.\n",
        "- At the second stop, 2 passengers exit the tram (1 passenger remains inside). Then, 5 passengers enter the tram. There are 6 passengers inside the tram now.\n",
        "At the third stop, 4 passengers exit the tram (2 passengers remain inside). Then, 2 passengers enter the tram. There are 4 passengers inside the tram now.\n",
        "Finally, all the remaining passengers inside the tram exit the tram at the last stop. There are no passenger inside the tram now, which is in line with the constraints.\n",
        "\n",
        "Since the number of passengers inside the tram never exceeds 6, a capacity of 6 is sufficient. Furthermore it is not possible for the tram to have a capacity less than 6. Hence, 6 is the correct answer.\n",
        "\n"
      ],
      "metadata": {
        "id": "9BTOT7Nu9uSm"
      }
    },
    {
      "cell_type": "code",
      "execution_count": null,
      "metadata": {
        "id": "RFzgJlvP9cwC"
      },
      "outputs": [],
      "source": [
        "# Solution:\n",
        "station_num = int(input())\n",
        "total = 0\n",
        "seat = []\n",
        "for x in range(station_num):\n",
        "    exit, entry = map(int, input().split())\n",
        "    total = total - exit\n",
        "    total = total + entry\n",
        "    seat.append(total)\n",
        "\n",
        "print(max(seat))\n"
      ]
    },
    {
      "cell_type": "markdown",
      "source": [
        "### Explanation:\n",
        "\n",
        "1. **Input the number of stations:** The program takes `station_num` as input, representing the number of Tram stations.\n",
        "\n",
        "2. **Initialize variables:**  \n",
        "   - `total` is initialized to `0` to track the current number of passengers on the train.  \n",
        "   - `seat` is initialized as an empty list to store the number of total passengers after each station.\n",
        "\n",
        "3. **Update passenger count for each station:**  \n",
        "   - The program iterates over the range of `station_num`. For each station:\n",
        "     - It takes two inputs, `exit` (number of passengers leaving the tram) and `entry` (number of passengers entering the tram). These are read using `map(int, input().split())`.\n",
        "     - It updates `total` by subtracting `exit` and adding `entry`.  \n",
        "     - The updated `total` is appended to the `seat` list.\n",
        "\n",
        "4. **Find and print the maximum number of passengers:**  \n",
        "   - The program calculates the maximum value in the `seat` list using `max(seat)` and prints it."
      ],
      "metadata": {
        "id": "_CAwMqvxQsvo"
      }
    }
  ]
}