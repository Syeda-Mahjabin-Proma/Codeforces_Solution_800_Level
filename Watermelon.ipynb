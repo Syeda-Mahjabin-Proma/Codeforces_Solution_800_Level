{
  "nbformat": 4,
  "nbformat_minor": 0,
  "metadata": {
    "colab": {
      "provenance": []
    },
    "kernelspec": {
      "name": "python3",
      "display_name": "Python 3"
    },
    "language_info": {
      "name": "python"
    }
  },
  "cells": [
    {
      "cell_type": "markdown",
      "source": [
        "# **A. Watermelon**\n",
        "*Time limit per test: 1 second & Memory limit per test: 64 megabytes.*\n",
        "\n",
        "\n",
        "\n",
        "<br>\n",
        "\n",
        "*Problem:* One hot summer day Pete and his friend Billy decided to buy a watermelon. They chose the biggest and the ripest one, in their opinion. After that the watermelon was weighed, and the scales showed w kilos. They rushed home, dying of thirst, and decided to divide the berry, however they faced a hard problem.\n",
        "\n",
        "Pete and Billy are great fans of even numbers, that's why they want to divide the watermelon in such a way that each of the two parts weighs even number of kilos, at the same time it is not obligatory that the parts are equal. The boys are extremely tired and want to start their meal as soon as possible, that's why you should help them and find out, if they can divide the watermelon in the way they want. For sure, each of them should get a part of positive weight.\n",
        "\n",
        "*Input:* The first (and the only) input line contains integer number w (1 ≤ w ≤ 100) — the weight of the watermelon bought by the boys.\n",
        "\n",
        "*Output:* Print YES, if the boys can divide the watermelon into two parts, each of them weighing even number of kilos; and NO in the opposite case.\n",
        "\n",
        "\n",
        "\n",
        "```\n",
        "Sample Input:\n",
        "8\n",
        "```\n",
        "```\n",
        "Sample Outout:\n",
        "YES\n",
        "```\n",
        "\n"
      ],
      "metadata": {
        "id": "05-ocH888K0b"
      }
    },
    {
      "cell_type": "code",
      "execution_count": 2,
      "metadata": {
        "id": "-ELyO0Qu7ubZ",
        "colab": {
          "base_uri": "https://localhost:8080/"
        },
        "outputId": "224a7638-697c-4e67-a5a6-e747eee8c1f8"
      },
      "outputs": [
        {
          "output_type": "stream",
          "name": "stdout",
          "text": [
            "6\n",
            "Yes\n"
          ]
        }
      ],
      "source": [
        "# Solution:\n",
        "\n",
        "weight = int(input())\n",
        "\n",
        "if weight >= 1 and weight <= 100:\n",
        "    if weight ==2:\n",
        "        print(\"NO\")\n",
        "    elif weight % 2 == 0:\n",
        "        print(\"Yes\")\n",
        "    else:\n",
        "        print(\"No\")"
      ]
    },
    {
      "cell_type": "markdown",
      "source": [
        "# Explanation of my Code:\n",
        "\n",
        "The program determines if a given weight can be evenly split into two parts, each with an even weight. The logic is as follows:\n",
        "\n",
        "1. **Input Validation:** The weight is accepted as an integer input within the range of 1 to 100.\n",
        "2. **Special Case (Weight of 2):** A weight of 2 is not acceptable because dividing it results in two parts of 1 kg, which does not meet the even-weight condition. Therefore, it prints `\"NO\"` for this case.\n",
        "3. **Divisibility Check:** For other weights, if the weight is an even number (divisible by 2), it can be split into two even parts, so the program prints `\"YES\"`. If the weight is odd, it cannot be evenly split, so it prints `\"NO\"`.\n"
      ],
      "metadata": {
        "id": "mAfw1aqDBxZH"
      }
    },
    {
      "cell_type": "code",
      "source": [],
      "metadata": {
        "id": "8ZMkvhd2C881"
      },
      "execution_count": null,
      "outputs": []
    }
  ]
}