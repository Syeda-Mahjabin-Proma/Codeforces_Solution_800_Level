{
  "nbformat": 4,
  "nbformat_minor": 0,
  "metadata": {
    "colab": {
      "provenance": []
    },
    "kernelspec": {
      "name": "python3",
      "display_name": "Python 3"
    },
    "language_info": {
      "name": "python"
    }
  },
  "cells": [
    {
      "cell_type": "markdown",
      "source": [
        "# **A. Boy or Girl**\n",
        "**Problem Link**: *https://codeforces.com/problemset/problem/236/A*\n",
        "\n",
        "<br>\n",
        "\n",
        "*Time limit per test: 1 second & Memory limit per test: 256 megabytes.*\n",
        "\n",
        "<br>\n",
        "\n",
        "*Problem:* Those days, many boys use beautiful girls' photos as avatars in forums. So it is pretty hard to tell the gender of a user at the first glance. Last year, our hero went to a forum and had a nice chat with a beauty (he thought so). After that they talked very often and eventually they became a couple in the network.\n",
        "\n",
        "But yesterday, he came to see \"her\" in the real world and found out \"she\" is actually a very strong man! Our hero is very sad and he is too tired to love again now. So he came up with a way to recognize users' genders by their user names.\n",
        "\n",
        "**This is his method: If the number of distinct characters in one's user name is odd, then he is a male, otherwise she is a female. You are given the string that denotes the user name, please help our hero to determine the gender of this user by his method.**\n",
        "\n",
        "<br>\n",
        "\n",
        "*Input:* The first line contains a non-empty string, that contains only lowercase English letters — the user name. This string contains at most 100 letters.\n",
        "\n",
        "*Output:* If it is a female by our hero's method, print \"CHAT WITH HER!\" (without the quotes), otherwise, print \"IGNORE HIM!\" (without the quotes).\n",
        "\n",
        "## Examples:\n",
        "```\n",
        "Input:\n",
        "wjmzbmr\n",
        "\n",
        "Output:\n",
        "CHAT WITH HER!\n",
        "```\n",
        "```\n",
        "Input:\n",
        "xiaodao\n",
        "\n",
        "Output:\n",
        "IGNORE HIM!\n",
        "```\n",
        "```\n",
        "Input:\n",
        "sevenkplus\n",
        "\n",
        "Output:\n",
        "CHAT WITH HER!\n",
        "```\n",
        "*Note: For the first example. There are 6 distinct characters in \"wjmzbmr\". These characters are: \"w\", \"j\", \"m\", \"z\", \"b\", \"r\". So wjmzbmr is a female and you should print \"CHAT WITH HER!\".*"
      ],
      "metadata": {
        "id": "OEK6-_p3l9DD"
      }
    },
    {
      "cell_type": "code",
      "execution_count": null,
      "metadata": {
        "id": "25t5oA84l0On"
      },
      "outputs": [],
      "source": [
        "# Solution:\n",
        "name = input()\n",
        "check = \"\"\n",
        "for x in name:\n",
        "    if x not in check:\n",
        "        check += x\n",
        "\n",
        "if len(check) % 2 == 0:\n",
        "    print(\"CHAT WITH HER!\")\n",
        "else:\n",
        "    print(\"IGNORE HIM!\")\n"
      ]
    },
    {
      "cell_type": "markdown",
      "source": [
        "# Explanation:\n",
        "\n",
        "1. **Input:** Takes a string input, `name`, which represents a person's name.\n",
        "\n",
        "2. **Finding Unique Characters:**\n",
        "   - An empty string `check` is used to store unique characters.\n",
        "   - The program iterates over each character in `name`. If the character is not already in `check`, it is added to `check`.\n",
        "\n",
        "3. **Check the Count of Unique Characters:**\n",
        "   - The program calculates the length of `check`, which represents the number of unique characters.\n",
        "   - If the count is even, it prints `\"CHAT WITH HER!\"`.\n",
        "   - If the count is odd, it prints `\"IGNORE HIM!\"`."
      ],
      "metadata": {
        "id": "1D2KnqlunOQ6"
      }
    }
  ]
}
