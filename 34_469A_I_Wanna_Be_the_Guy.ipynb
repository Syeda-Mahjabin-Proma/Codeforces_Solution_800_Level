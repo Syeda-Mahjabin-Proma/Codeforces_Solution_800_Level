{
  "nbformat": 4,
  "nbformat_minor": 0,
  "metadata": {
    "colab": {
      "provenance": [],
      "authorship_tag": "ABX9TyMghM8F7c/e6LorbiR3m6wq"
    },
    "kernelspec": {
      "name": "python3",
      "display_name": "Python 3"
    },
    "language_info": {
      "name": "python"
    }
  },
  "cells": [
    {
      "cell_type": "markdown",
      "source": [
        "#**469A - I Wanna Be the Guy**\n",
        "\n",
        "**Problem Link:** *https://codeforces.com/problemset/problem/469/A*"
      ],
      "metadata": {
        "id": "vCdsAKaaFHMH"
      }
    },
    {
      "cell_type": "code",
      "execution_count": null,
      "metadata": {
        "id": "_sv0-d5CFCBH"
      },
      "outputs": [],
      "source": [
        "# Solution:\n",
        "n = int(input())\n",
        "X = list(map(int, input().split()))\n",
        "Y = list(map(int, input().split()))\n",
        "temp = X[1:]\n",
        "for integers in Y[1::]:\n",
        "    if integers not in temp:\n",
        "        temp.append(integers)\n",
        "\n",
        "if len(temp) == n:\n",
        "    print(\"I become the guy.\")\n",
        "else:\n",
        "    print(\"Oh, my keyboard!\")"
      ]
    },
    {
      "cell_type": "markdown",
      "source": [
        "### **Explanation of the Code:**\n",
        "\n",
        "This program determines if all levels of a game can be completed based on the levels cleared by two players. The logic works as follows:\n",
        "\n",
        "1. **Input Handling:**\n",
        "   - The program takes an integer `n`, representing the total number of levels in the game.\n",
        "   - Two lists, `X` and `Y`, are provided:\n",
        "     - `X` contains the levels cleared by the first player, where the first element is the count of levels cleared, and the remaining elements are the actual levels.\n",
        "     - `Y` contains the levels cleared by the second player, structured similarly.\n",
        "\n",
        "2. **Combine Levels Cleared:**\n",
        "   - A list `temp` is initialized with all levels cleared by the first player (`X[1:]`).\n",
        "   - The program iterates through the levels cleared by the second player (`Y[1:]`):\n",
        "     - If a level is not already in `temp`, it is appended.\n",
        "\n",
        "3. **Check All Levels:**\n",
        "   - If the length of `temp` is equal to `n`, it prints `\"I become the guy.\"`.\n",
        "   - Otherwise, it prints `\"Oh, my keyboard!\"`."
      ],
      "metadata": {
        "id": "GkkIIcUDFbFW"
      }
    }
  ]
}