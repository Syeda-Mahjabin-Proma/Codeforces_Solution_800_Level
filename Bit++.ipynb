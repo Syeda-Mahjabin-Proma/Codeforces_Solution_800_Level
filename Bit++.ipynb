{
  "nbformat": 4,
  "nbformat_minor": 0,
  "metadata": {
    "colab": {
      "provenance": []
    },
    "kernelspec": {
      "name": "python3",
      "display_name": "Python 3"
    },
    "language_info": {
      "name": "python"
    }
  },
  "cells": [
    {
      "cell_type": "markdown",
      "source": [
        "# **A. Bit++**\n",
        "*Time limit per test: 1 second & Memory limit per test: 256 megabytes.*\n",
        "\n",
        "*The classic programming language of Bitland is Bit++. This language is so peculiar and complicated.*\n",
        "\n",
        "<br>\n",
        "\n",
        "*Problem:* The language is that peculiar as it has exactly one variable, called x. Also, there are two operations:\n",
        "\n",
        "    Operation ++ increases the value of variable x by 1.\n",
        "    Operation -- decreases the value of variable x by 1.\n",
        "\n",
        "A statement in language Bit++ is a sequence, consisting of exactly one operation and one variable x. The statement is written without spaces, that is, it can only contain characters \"+\", \"-\", \"X\". Executing a statement means applying the operation it contains.\n",
        "\n",
        "A programme in Bit++ is a sequence of statements, each of them needs to be executed. Executing a programme means executing all the statements it contains.\n",
        "\n",
        "You're given a programme in language Bit++. The initial value of x is 0. Execute the programme and find its final value (the value of the variable when this programme is executed).\n",
        "    \n",
        "<br>\n",
        "\n",
        "*Input:*\n",
        "- The first line contains a single integer n (1 ≤ n ≤ 150) — the number of statements in the programme.\n",
        "\n",
        "- Next n lines contain a statement each. Each statement contains exactly one operation (++ or --) and exactly one variable x (denoted as letter «X»). Thus, there are no empty statements. The operation and the variable can be written in any order.\n",
        "\n",
        "*Output:* Print a single integer — the final value of x.\n",
        "\n",
        "## Examples:\n",
        "```\n",
        "Input-1\n",
        "1\n",
        "++X\n",
        "```\n",
        "```\n",
        "Output-1\n",
        "1\n",
        "```\n",
        "```\n",
        "Input-2\n",
        "2\n",
        "X++\n",
        "--X\n",
        "```\n",
        "```\n",
        "Output-2\n",
        "0\n",
        "```\n",
        "\n"
      ],
      "metadata": {
        "id": "r8ZrFU8bP_HP"
      }
    },
    {
      "cell_type": "code",
      "execution_count": null,
      "metadata": {
        "id": "DbV4bN8VPz1g"
      },
      "outputs": [],
      "source": [
        "# Solution:\n",
        "\n",
        "number = int(input())\n",
        "val = 0\n",
        "for x in range(number):\n",
        "    string = input()\n",
        "    if \"++\" in string:\n",
        "        val += 1\n",
        "    if \"--\" in string:\n",
        "        val -= 1\n",
        "print(val)\n"
      ]
    },
    {
      "cell_type": "markdown",
      "source": [
        "# Explanation:\n",
        "\n",
        "This program calculates a final value based on increment and decrement operations indicated by specific substrings in a set of commands. Here's how it works:\n",
        "\n",
        "1. **Input the Number of Operations:** An integer `number` is read as input, representing the number of commands to process.\n",
        "2. **Initialize `val` to Zero:** The variable `val` is initialized to zero, serving as a counter that will be adjusted based on the commands.\n",
        "3. **Loop Through Each Command:** For each command string:\n",
        "   - **Increment Check:** If the string contains `\"++\"`, it indicates an increment operation, so `val` is increased by 1.\n",
        "   - **Decrement Check:** If the string contains `\"--\"`, it indicates a decrement operation, so `val` is decreased by 1.\n",
        "4. **Output the Final Value:** After processing all commands, the final value of `val` is printed."
      ],
      "metadata": {
        "id": "-NYgO-5GRmlO"
      }
    }
  ]
}