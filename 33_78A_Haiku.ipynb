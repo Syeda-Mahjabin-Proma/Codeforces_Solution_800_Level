{
  "nbformat": 4,
  "nbformat_minor": 0,
  "metadata": {
    "colab": {
      "provenance": [],
      "authorship_tag": "ABX9TyPfY1dwUXLmLoHovlYGzcoq"
    },
    "kernelspec": {
      "name": "python3",
      "display_name": "Python 3"
    },
    "language_info": {
      "name": "python"
    }
  },
  "cells": [
    {
      "cell_type": "markdown",
      "source": [
        "#**78A - Haiku**\n",
        "\n",
        "**Problem Link:** *https://codeforces.com/problemset/problem/78/A*"
      ],
      "metadata": {
        "id": "LkZjmrKJ8eNr"
      }
    },
    {
      "cell_type": "code",
      "execution_count": null,
      "metadata": {
        "id": "KfJyYkY48XlX"
      },
      "outputs": [],
      "source": [
        "# Solution:\n",
        "\n",
        "phases = \"\"\n",
        "for x in range(3):\n",
        "    line = input()\n",
        "    vowels = \"aeiou\"\n",
        "    check = \"\"\n",
        "    for k in line:\n",
        "        if k in vowels:\n",
        "            check += k\n",
        "    phases += str(len(check))\n",
        "\n",
        "if phases == \"575\":\n",
        "    print(\"YES\")\n",
        "else:\n",
        "    print(\"NO\")\n",
        ""
      ]
    },
    {
      "cell_type": "markdown",
      "source": [
        "### **Explanation of the Code:**\n",
        "\n",
        "1. **Initialization:**\n",
        "   - A string `phases` is initialized to store the count of vowels in each of the three lines.\n",
        "\n",
        "2. **Processing Each Line:**\n",
        "   - The program loops three times, once for each line of input:\n",
        "     - Reads a line of text and initializes a string `check` to store vowels.\n",
        "     - Iterates through each character `k` in the line:\n",
        "       - If `k` is a vowel (a, e, i, o, u), it appends `k` to `check`.\n",
        "     - The length of `check` is appended to `phases`.\n",
        "\n",
        "3. **Validation:**\n",
        "   - After processing all three lines, the program checks if `phases` equals the string `\"575\"`.\n",
        "   - If true, it prints `\"YES\"`.\n",
        "   - Otherwise, it prints `\"NO\"`."
      ],
      "metadata": {
        "id": "csOlQtE38uhu"
      }
    }
  ]
}