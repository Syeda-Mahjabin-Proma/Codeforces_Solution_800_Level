{
  "nbformat": 4,
  "nbformat_minor": 0,
  "metadata": {
    "colab": {
      "provenance": []
    },
    "kernelspec": {
      "name": "python3",
      "display_name": "Python 3"
    },
    "language_info": {
      "name": "python"
    }
  },
  "cells": [
    {
      "cell_type": "markdown",
      "source": [
        "# **A. Team**\n",
        "*Time limit per test: 2 seconds & Memory limit per test:256 megabytes.*\n",
        "<br>\n",
        "\n",
        "*Problem:* One day three best friends Petya, Vasya and Tonya decided to form a team and take part in programming contests. Participants are usually offered several problems during programming contests. Long before the start the friends decided that they will implement a problem if at least two of them are sure about the solution. Otherwise, the friends won't write the problem's solution.\n",
        "\n",
        "This contest offers n problems to the participants. For each problem we know, which friend is sure about the solution. Help the friends find the number of problems for which they will write a solution.\n",
        "\n",
        "*Input:* The first input line contains a single integer n (1 ≤ n ≤ 1000) — the number of problems in the contest. Then n lines contain three integers each, each integer is either 0 or 1. If the first number in the line equals 1, then Petya is sure about the problem's solution, otherwise he isn't sure. The second number shows Vasya's view on the solution, the third number shows Tonya's view. The numbers on the lines are separated by spaces.\n",
        "\n",
        "*Output:* Print a single integer — the number of problems the friends will implement on the contest.\n",
        "\n",
        "### Examples:\n",
        "```\n",
        "Input-1:\n",
        "3\n",
        "1 1 0\n",
        "1 1 1\n",
        "1 0 0\n",
        "```\n",
        "```\n",
        "Output-1\n",
        "2\n",
        "```\n",
        "```\n",
        "Input-2\n",
        "2\n",
        "1 0 0\n",
        "0 1 1\n",
        "```\n",
        "```\n",
        "Output-2\n",
        "1\n",
        "```\n",
        "*Note:* <br>\n",
        "- In the first sample Petya and Vasya are sure that they know how to solve the first problem and all three of them know how to solve the second problem. That means that they will write solutions for these problems. Only Petya is sure about the solution for the third problem, but that isn't enough, so the friends won't take it.\n",
        "\n",
        "- In the second sample the friends will only implement the second problem, as Vasya and Tonya are sure about the solution."
      ],
      "metadata": {
        "id": "nSmncYA-NcU7"
      }
    },
    {
      "cell_type": "code",
      "execution_count": null,
      "metadata": {
        "id": "t1lRp337NPxP"
      },
      "outputs": [],
      "source": [
        "# Solution\n",
        "number = int(input())\n",
        "solved = 0\n",
        "for x in range(number):\n",
        "    pred = list(map(int, input().split(\" \")))\n",
        "    if pred[0] + pred[1] + pred[2] >= 2:\n",
        "        solved += 1\n",
        "print(solved)\n"
      ]
    },
    {
      "cell_type": "markdown",
      "source": [
        "# Explanation:\n",
        "\n",
        "The program takes an integer input number, which represents the number of problems to evaluate. Each problem has three participants, and the solution involves determining if at least two of the participants agree on a solution. The logic is as follows:\n",
        "\n",
        "1. **Initialize Counter (`solved`):** A counter `solved` is set to zero to keep track of the problems that meet the condition.\n",
        "2. **Loop Through Problems:** For each problem:\n",
        "   - **Input and Parsing:** It reads three integers (0 or 1) representing whether each participant is confident in their solution. These values are stored in a list called `pred`.\n",
        "   - **Condition Check:** If the sum of the list `pred` is 2 or more, it means at least two participants agree on the solution, so the counter `solved` is incremented by one.\n",
        "3. **Output the Result:** After all problems are evaluated, `solved` is printed, representing the total number of problems that can be confidently solved based on the participants' agreement."
      ],
      "metadata": {
        "id": "XK3u3NxfOytW"
      }
    }
  ]
}