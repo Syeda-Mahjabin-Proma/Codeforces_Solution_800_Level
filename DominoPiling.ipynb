{
  "nbformat": 4,
  "nbformat_minor": 0,
  "metadata": {
    "colab": {
      "provenance": []
    },
    "kernelspec": {
      "name": "python3",
      "display_name": "Python 3"
    },
    "language_info": {
      "name": "python"
    }
  },
  "cells": [
    {
      "cell_type": "markdown",
      "source": [
        "# **A. Domino piling**\n",
        "*Time limit per test: 2 seconds & Memory limit per test: 256 megabytes.*\n",
        "\n",
        "<br>\n",
        "\n",
        "*Problem:* You are given a rectangular board of M × N squares. Also you are given an unlimited number of standard domino pieces of 2 × 1 squares. You are allowed to rotate the pieces. You are asked to place as many dominoes as possible on the board so as to meet the following conditions:\n",
        "\n",
        "1. Each domino completely covers two squares.\n",
        "\n",
        "2. No two dominoes overlap.\n",
        "\n",
        "3. Each domino lies entirely inside the board. It is allowed to touch the edges of the board.\n",
        "\n",
        "Find the maximum number of dominoes, which can be placed under these restrictions.\n",
        "\n",
        "<br>\n",
        "\n",
        "*Input:* In a single line you are given two integers M and N — board sizes in squares (1 ≤ M ≤ N ≤ 16).\n",
        "\n",
        "*Output:* Output one number — the maximal number of dominoes, which can be placed.\n",
        "\n",
        "###Examples:\n",
        "```\n",
        "Input-1\n",
        "2 4\n",
        "```\n",
        "```\n",
        "Output-1\n",
        "4\n",
        "```\n",
        "```\n",
        "Input-2\n",
        "3 3\n",
        "```\n",
        "```\n",
        "Output-2\n",
        "4\n",
        "```"
      ],
      "metadata": {
        "id": "O2OdA3pBSa-k"
      }
    },
    {
      "cell_type": "code",
      "execution_count": null,
      "metadata": {
        "id": "FYIDdnDBSL0T"
      },
      "outputs": [],
      "source": [
        "# Solution\n",
        "\n",
        "size = list(map(int, input().split()))\n",
        "total_size = size[0] * size[1]\n",
        "print(total_size//2)"
      ]
    },
    {
      "cell_type": "markdown",
      "source": [
        "# Explanation:\n",
        "\n",
        "This program calculates the maximum number of 2×1 dominoes that can be placed on a rectangular board of size \\(M×N) under the given restrictions.\n",
        "\n",
        "1. **Input Parsing**: The input consists of two integers \\( M \\) and \\( N \\), representing the dimensions of the board (rows and columns). These values are read and stored in the list `size`.\n",
        "\n",
        "2. **Calculate Total Board Area**: The total area of the board is calculated by multiplying M and N. This gives the total number of squares on the board.\n",
        "\n",
        "3. **Calculate Maximum Domino Count**: A 2×1 domino covers exactly 2 squares. Therefore, the maximum number of dominoes that can be placed on the board is the integer division of the total area by 2. This ensures that only whole dominoes are counted.\n",
        "\n",
        "4. **Output**: The result is printed, which represents the maximum number of dominoes that can fit on the board, ensuring that no dominoes overlap and all lie entirely inside the board."
      ],
      "metadata": {
        "id": "yEWrOooeTsds"
      }
    },
    {
      "cell_type": "markdown",
      "source": [],
      "metadata": {
        "id": "tgS9I2boVYdD"
      }
    }
  ]
}