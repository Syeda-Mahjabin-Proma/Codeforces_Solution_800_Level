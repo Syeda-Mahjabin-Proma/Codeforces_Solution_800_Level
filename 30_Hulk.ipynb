{
  "nbformat": 4,
  "nbformat_minor": 0,
  "metadata": {
    "colab": {
      "provenance": [],
      "authorship_tag": "ABX9TyNHJqdUQ9bwiaHnk+dsWN9N"
    },
    "kernelspec": {
      "name": "python3",
      "display_name": "Python 3"
    },
    "language_info": {
      "name": "python"
    }
  },
  "cells": [
    {
      "cell_type": "markdown",
      "source": [
        "#**705A - Hulk**\n",
        "\n",
        "**Problem Link:** *https://codeforces.com/problemset/problem/705/A*"
      ],
      "metadata": {
        "id": "XItL6cRIW86r"
      }
    },
    {
      "cell_type": "code",
      "execution_count": null,
      "metadata": {
        "id": "Jnp10sF6UKnT"
      },
      "outputs": [],
      "source": [
        "# Solution:\n",
        "\n",
        "t = int(input())\n",
        "temp = [\"I hate\", \"I love\"]\n",
        "temp = temp * t\n",
        "output = \"\"\n",
        "\n",
        "for x in range(t):\n",
        "    if x == t - 1:\n",
        "        output += temp[x] + \" it\"\n",
        "    else:\n",
        "        output += temp[x] + \" that \"\n",
        "\n",
        "print(output)\n"
      ]
    },
    {
      "cell_type": "markdown",
      "source": [
        "## **Explanation of the Code:**\n",
        "\n",
        "1. **Input Handling:** The program takes an integer `t`, which specifies the number of phrases in the output.\n",
        "\n",
        "2. **Prepare Repeated Phrases:**\n",
        "   - A list `temp` is initialized with the phrases.\n",
        "   - The list is multiplied with t to ensure it has at least elements.\n",
        "\n",
        "3. **Construct the Sentence:**\n",
        "   - An empty string `output` is initialized to build the sentence.\n",
        "   - A loop iterates through `t` phrases:\n",
        "     - If the current index `x` is the last one (`x == t - 1`), append `\" it\"` to the corresponding phrase.\n",
        "     - Otherwise, append `\" that \"` to separate the phrases.\n",
        "\n",
        "4. **Output the Result:**\n",
        "   - The constructed sentence stored in `output` is printed. It alternates between \"I hate\" and \"I love\", ending with \"it\"."
      ],
      "metadata": {
        "id": "nZbNtyQpXLi5"
      }
    }
  ]
}