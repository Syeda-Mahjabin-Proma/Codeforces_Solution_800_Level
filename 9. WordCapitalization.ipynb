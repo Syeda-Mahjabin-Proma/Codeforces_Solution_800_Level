{
  "nbformat": 4,
  "nbformat_minor": 0,
  "metadata": {
    "colab": {
      "provenance": []
    },
    "kernelspec": {
      "name": "python3",
      "display_name": "Python 3"
    },
    "language_info": {
      "name": "python"
    }
  },
  "cells": [
    {
      "cell_type": "markdown",
      "source": [
        "# **A. Word Capitalization**\n",
        "*Time limit per test: 2 seconds & Memory limit per test: 256 megabytes.*\n",
        "\n",
        "<br>\n",
        "\n",
        "*Problem:* Capitalization is writing a word with its first letter as a capital letter. Your task is to capitalize the given word.\n",
        "\n",
        "**Note that during capitalization all the letters except the first one remains unchanged.**\n",
        "\n",
        "<br>\n",
        "\n",
        "*Input:* A single line contains a non-empty word. This word consists of lowercase and uppercase English letters. The length of the word will not exceed 103.\n",
        "\n",
        "*Output:* Output the given word after capitalization.\n",
        "\n",
        "##Examples:\n",
        "```\n",
        "Input:\n",
        "ApPLe\n",
        "\n",
        "Output:\n",
        "ApPLe\n",
        "```\n",
        "```\n",
        "Input:\n",
        "konjac\n",
        "\n",
        "Output:\n",
        "Konjac\n",
        "```"
      ],
      "metadata": {
        "id": "YQI9VFLDkamB"
      }
    },
    {
      "cell_type": "code",
      "execution_count": null,
      "metadata": {
        "id": "MIyVfyAPkW3x"
      },
      "outputs": [],
      "source": [
        "# Solution:\n",
        "\n",
        "word = input()\n",
        "output = \"\"\n",
        "\n",
        "output+=word[0].upper()\n",
        "for x in range(1, len(word)):\n",
        "    output+= word[x]\n",
        "\n",
        "print(output)"
      ]
    },
    {
      "cell_type": "markdown",
      "source": [
        "# Explanation:\n",
        "\n",
        "1. **Input:** The code reads a single word from input and stores it in the variable `word`.\n",
        "\n",
        "2. **Initialize Output:** The variable `output` is initialized as an empty string.\n",
        "\n",
        "3. **Capitalize the First Character:** The first character of `word` is capitalized using `word[0].upper()` and added to `output`.\n",
        "\n",
        "4. **Append Remaining Characters:** A loop iterates from the second character to the end of the word, appending each character to `output`.\n",
        "\n",
        "5. **Print the Result:** The final result `output`, is printed with only the first character capitalized."
      ],
      "metadata": {
        "id": "TsRBEiAtlTJ3"
      }
    }
  ]
}