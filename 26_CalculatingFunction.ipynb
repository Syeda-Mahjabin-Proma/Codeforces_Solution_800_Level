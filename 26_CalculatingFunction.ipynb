{
  "nbformat": 4,
  "nbformat_minor": 0,
  "metadata": {
    "colab": {
      "provenance": [],
      "authorship_tag": "ABX9TyNw5cC3wgvOLmp/egpeOjQG",
      "include_colab_link": true
    },
    "kernelspec": {
      "name": "python3",
      "display_name": "Python 3"
    },
    "language_info": {
      "name": "python"
    }
  },
  "cells": [
    {
      "cell_type": "markdown",
      "metadata": {
        "id": "view-in-github",
        "colab_type": "text"
      },
      "source": [
        "<a href=\"https://colab.research.google.com/github/Syeda-Mahjabin-Proma/Codeforces_Solution_800_Level/blob/main/26_CalculatingFunction.ipynb\" target=\"_parent\"><img src=\"https://colab.research.google.com/assets/colab-badge.svg\" alt=\"Open In Colab\"/></a>"
      ]
    },
    {
      "cell_type": "markdown",
      "source": [
        "#**A. Calculating Function**\n",
        "\n",
        "**Problem Link:** *https://codeforces.com/problemset/problem/486/A*"
      ],
      "metadata": {
        "id": "YntbP94f5hjW"
      }
    },
    {
      "cell_type": "code",
      "execution_count": null,
      "metadata": {
        "colab": {
          "base_uri": "https://localhost:8080/"
        },
        "id": "DyqHHjlz5fGr",
        "outputId": "feabdbd9-b167-4bc8-8162-617e931ee410"
      },
      "outputs": [
        {
          "output_type": "stream",
          "name": "stdout",
          "text": [
            "5\n",
            "-3\n"
          ]
        }
      ],
      "source": [
        "# Solution:\n",
        "n = int(input())\n",
        "if n % 2 == 0:\n",
        "    print(n // 2)\n",
        "else:\n",
        "    print(-(n // 2 + 1))\n"
      ]
    },
    {
      "cell_type": "markdown",
      "source": [
        "## **Explanation of the Code:**\n",
        "\n",
        "\n",
        "**Input Handling:**- The program takes an integer `n` as input.\n",
        "\n",
        "**Conditional Calculation:** If n is even, it simply divides that value by 2 and prints the value. And if n is odd, it prints the negative value of (n//2 + 1).\n"
      ],
      "metadata": {
        "id": "x1TSEb9n6Rgh"
      }
    }
  ]
}