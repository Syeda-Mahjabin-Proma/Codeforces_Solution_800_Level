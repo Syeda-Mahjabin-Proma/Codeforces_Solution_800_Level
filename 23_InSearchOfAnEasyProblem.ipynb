{
  "nbformat": 4,
  "nbformat_minor": 0,
  "metadata": {
    "colab": {
      "provenance": [],
      "authorship_tag": "ABX9TyNzdJwWW7nYLlxEEUdVG0UF"
    },
    "kernelspec": {
      "name": "python3",
      "display_name": "Python 3"
    },
    "language_info": {
      "name": "python"
    }
  },
  "cells": [
    {
      "cell_type": "markdown",
      "source": [
        "#**A. In Search of an Easy Problem**\n",
        "\n",
        "***Problem Link:*** https://codeforces.com/problemset/problem/1030/A"
      ],
      "metadata": {
        "id": "5iEcqByNSAcD"
      }
    },
    {
      "cell_type": "code",
      "execution_count": null,
      "metadata": {
        "id": "ZnthGKKJRA85"
      },
      "outputs": [],
      "source": [
        "# Solution:\n",
        "\n",
        "n = int(input())\n",
        "answers = list(map(int, input().split()))\n",
        "flag = True\n",
        "for x in range(n):\n",
        "    if answers[x] == 1:\n",
        "        print(\"HARD\")\n",
        "        flag = False\n",
        "        break\n",
        "if flag:\n",
        "    print(\"Easy\")\n"
      ]
    },
    {
      "cell_type": "markdown",
      "source": [
        "### Explanation:\n",
        "\n",
        "1. **Input the number of people and their answers:** The program takes an integer `n` as input which represents the number of people and then takes a list of n integers that contains 0 (represents **EASY**) and 1 (represents **HARD**).\n",
        "\n",
        "2. **Initialize a flag variable:** A variable `flag` is set to `True` initially assuming all questions are Easy.\n",
        "\n",
        "3. **Check the answers:** The program iterates over the `answers` list using a `for` loop. If any answer in the list is `1`, the program prints `\"HARD\"`, `flag` is set to `False` and the loop breaks.\n",
        "\n",
        "4. **Output the result if all questions are easy:** If the loop completes without finding any `1`, the `flag` remains `True`, and the program prints `\"Easy\"`."
      ],
      "metadata": {
        "id": "LMEH8D0GSqBb"
      }
    }
  ]
}