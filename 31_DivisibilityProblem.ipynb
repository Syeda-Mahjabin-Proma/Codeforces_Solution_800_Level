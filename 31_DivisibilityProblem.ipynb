{
  "nbformat": 4,
  "nbformat_minor": 0,
  "metadata": {
    "colab": {
      "provenance": [],
      "authorship_tag": "ABX9TyM40Z2AJUZ669zNpPov6Yuh"
    },
    "kernelspec": {
      "name": "python3",
      "display_name": "Python 3"
    },
    "language_info": {
      "name": "python"
    }
  },
  "cells": [
    {
      "cell_type": "markdown",
      "source": [
        "#**1328A - Divisibility Problem**\n",
        "\n",
        "**Problem Link:** *https://codeforces.com/problemset/problem/1328/A*"
      ],
      "metadata": {
        "id": "6sgC6i8ZT69Q"
      }
    },
    {
      "cell_type": "code",
      "execution_count": null,
      "metadata": {
        "id": "EagcPzZST19o"
      },
      "outputs": [],
      "source": [
        "# Solution:\n",
        "t = int(input())\n",
        "for x in range(t):\n",
        "    a, b = map(int, input().split())\n",
        "    if a%b == 0:\n",
        "        print(0)\n",
        "    else:\n",
        "        result = a//b\n",
        "        count = (b* (result + 1)) - a\n",
        "        print(count)"
      ]
    },
    {
      "cell_type": "markdown",
      "source": [
        "##Explanation:\n",
        "\n",
        "### **Explanation of the Code:**\n",
        "\n",
        "This program calculates the smallest number to add to `a` to make it divisible by `b` for multiple test cases. The logic works as follows:\n",
        "\n",
        "1. **Input Handling:**\n",
        "   - The program takes an integer `t`, which represents the number of test cases.\n",
        "   - For each test case, it reads two integers `a` and `b`.\n",
        "\n",
        "2. **Divisibility Check:**\n",
        "   - For each pair `(a, b)`:\n",
        "     - If `a % b == 0`, it means `a` is already divisible by `b`, so the result is `0`.\n",
        "     - Otherwise:\n",
        "       - The program calculates the next multiple of `b` after `a` by finding `(b * (a // b + 1))`.\n",
        "       - The difference between this next multiple and `a` is calculated as `count = (b * (result + 1)) - a`, where `result = a // b`.\n",
        "\n",
        "3. **Output the Result:**\n",
        "   - For each test case, the program prints the value of `count`, which represents the smallest number to add to `a` to make it divisible by `b`."
      ],
      "metadata": {
        "id": "8M6nI_zjUQCf"
      }
    }
  ]
}