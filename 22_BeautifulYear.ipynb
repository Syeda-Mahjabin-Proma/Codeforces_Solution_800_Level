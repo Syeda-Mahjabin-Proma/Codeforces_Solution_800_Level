{
  "nbformat": 4,
  "nbformat_minor": 0,
  "metadata": {
    "colab": {
      "provenance": [],
      "authorship_tag": "ABX9TyPyr/y/Kde7HUGTFx+fJACl"
    },
    "kernelspec": {
      "name": "python3",
      "display_name": "Python 3"
    },
    "language_info": {
      "name": "python"
    }
  },
  "cells": [
    {
      "cell_type": "markdown",
      "source": [
        "#**A. Beautiful Year**\n",
        "\n",
        "<br>\n",
        "\n",
        "**Problem Link:** *https://codeforces.com/problemset/problem/271/A*\n",
        "\n",
        "**Time limit per test2 seconds & Memory limit per test256 megabytes.**\n",
        "\n",
        "*Problem:* It seems like the year of 2013 came only yesterday. Do you know a curious fact? The year of 2013 is the first year after the old 1987 with only distinct digits.\n",
        "\n",
        "Now you are suggested to solve the following problem: given a year number, find the minimum year number which is strictly larger than the given one and has only distinct digits.\n",
        "\n",
        "*Input:* The single line contains integer y (1000 ≤ y ≤ 9000) — the year number.\n",
        "\n",
        "*Output:* Print a single integer — the minimum year number that is strictly larger than y and all it's digits are distinct. It is guaranteed that the answer exists.\n",
        "\n",
        "##Examples:\n",
        "```\n",
        "Input:\n",
        "1987\n",
        "\n",
        "Output:\n",
        "2013\n",
        "```\n",
        "```\n",
        "Input:\n",
        "2013\n",
        "\n",
        "Output:\n",
        "2014\n",
        "```\n"
      ],
      "metadata": {
        "id": "_5q-dJiuL99h"
      }
    },
    {
      "cell_type": "code",
      "execution_count": null,
      "metadata": {
        "id": "WslHSZktL4CZ"
      },
      "outputs": [],
      "source": [
        "# Solution:\n",
        "\n",
        "year = str(int(input()) + 1)\n",
        "check = \"\"\n",
        "x = 0\n",
        "while x < len(year):\n",
        "    if year[x] not in check:\n",
        "        check+=year[x]\n",
        "        x += 1\n",
        "    else:\n",
        "        year = str(int(year) + 1)\n",
        "        check = \"\"\n",
        "        x = 0\n",
        "print(check)\n"
      ]
    },
    {
      "cell_type": "markdown",
      "source": [
        "# Explanation:\n",
        "\n",
        "1. **Input the starting year and initialize variables:**  \n",
        "   - The program takes a year as input, increments it by `1`, and converts it to a string stored in `year`.  \n",
        "   - `check` is initialized as an empty string to store unique digits of the year being checked.  \n",
        "   - `x` is initialized to `0` to serve as the loop index.\n",
        "\n",
        "2. **Find the next year with unique digits:**  \n",
        "   - A `while` loop runs to process the digits of the current year:\n",
        "     - If the digit at position `x` in `year` is not already in `check`, it is appended to `check`, and `x` is incremented to check the next digit.\n",
        "     - If a digit is found in `check`, it means the year has repeated digits. In this case:\n",
        "       - `year` is incremented by 1 (converted back to an integer, incremented, and converted to a string).  \n",
        "       - `check` is reset to an empty string, and `x` is reset to `0` to restart the check for the new year.\n",
        "\n",
        "3. **Output the result:**  \n",
        "   - Once a year with all unique digits is found, the loop exits, and the program prints the value of `check`, which now holds the unique digits of that year."
      ],
      "metadata": {
        "id": "jVI26i8rM6Ja"
      }
    }
  ]
}