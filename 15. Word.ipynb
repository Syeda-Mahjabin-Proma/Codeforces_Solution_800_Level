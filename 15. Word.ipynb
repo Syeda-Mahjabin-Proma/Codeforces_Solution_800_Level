{
  "nbformat": 4,
  "nbformat_minor": 0,
  "metadata": {
    "colab": {
      "provenance": []
    },
    "kernelspec": {
      "name": "python3",
      "display_name": "Python 3"
    },
    "language_info": {
      "name": "python"
    }
  },
  "cells": [
    {
      "cell_type": "markdown",
      "source": [
        "#**A. Word**\n",
        "**Problem Link**: *https://codeforces.com/problemset/problem/59/A*\n",
        "\n",
        "<br>\n",
        "\n",
        "*Time limit per test: 2 seconds & Memory limit per test256 megabytes.*\n",
        "\n",
        "\n",
        "<br>\n",
        "\n",
        "*Problem:* Vasya is very upset that many people on the Net mix uppercase and lowercase letters in one word. That's why he decided to invent an extension for his favorite browser that would change the letters' register in every word so that it either only consisted of lowercase letters or, vice versa, only of uppercase ones. At that as little as possible letters should be changed in the word. For example, the word HoUse must be replaced with house, and the word ViP — with VIP. If a word contains an equal number of uppercase and lowercase letters, you should replace all the letters with lowercase ones. For example, maTRIx should be replaced by matrix. Your task is to use the given method on one given word.\n",
        "\n",
        "<br>\n",
        "\n",
        "*Input:* The first line contains a word s — it consists of uppercase and lowercase Latin letters and possesses the length from 1 to 100.\n",
        "\n",
        "*Output:* Print the corrected word s. If the given word s has strictly more uppercase letters, make the word written in the uppercase register, otherwise - in the lowercase one.\n",
        "\n",
        "##Examples:\n",
        "```\n",
        "Input:\n",
        "HoUse\n",
        "\n",
        "Output:\n",
        "house\n",
        "```\n",
        "```\n",
        "Input:\n",
        "ViP\n",
        "\n",
        "Output:\n",
        "VIP\n",
        "```\n",
        "```\n",
        "Input:\n",
        "maTRIx\n",
        "\n",
        "Output:\n",
        "matrix\n",
        "```"
      ],
      "metadata": {
        "id": "YuyjxEEXpL2g"
      }
    },
    {
      "cell_type": "code",
      "execution_count": null,
      "metadata": {
        "id": "n5yxSCtQoriq"
      },
      "outputs": [],
      "source": [
        "# Solution:\n",
        "word = input()\n",
        "upp = []\n",
        "low = []\n",
        "for alpha in word:\n",
        "    if alpha.isupper():\n",
        "        upp.append(alpha)\n",
        "    else:\n",
        "        low.append(alpha)\n",
        "if len(upp) > len(low):\n",
        "    print(word.upper())\n",
        "else:\n",
        "    print(word.lower())"
      ]
    },
    {
      "cell_type": "markdown",
      "source": [
        "# Explanation:\n",
        "\n",
        "1. **Initialize Lists**:\n",
        "   - `upp = []` and `low = []`: These lists will store uppercase and lowercase letters separately.\n",
        "\n",
        "2. **Iterate Through Each Character**: A loop runned for each character in the `world` and if the character is uppercase, appended in `upp` list otherwise appended in `low` list\n",
        "\n",
        "3. **Compare Counts of Uppercase and Lowercase Letters**: If the length of `upp` list is greater that the `low` list, then convert the `word` into uppercase uppercase using othersize it converted into lowercase and print the `word`."
      ],
      "metadata": {
        "id": "wOG4bUQL8cWW"
      }
    }
  ]
}
