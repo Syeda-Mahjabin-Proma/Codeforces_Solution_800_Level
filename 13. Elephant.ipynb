{
  "nbformat": 4,
  "nbformat_minor": 0,
  "metadata": {
    "colab": {
      "provenance": []
    },
    "kernelspec": {
      "name": "python3",
      "display_name": "Python 3"
    },
    "language_info": {
      "name": "python"
    }
  },
  "cells": [
    {
      "cell_type": "markdown",
      "source": [
        "# **A. Elephant**\n",
        "*Time limit per test: 1 second & Memory limit per test: 256 megabytes.*\n",
        "\n",
        "<br>\n",
        "\n",
        "*Problem:* An elephant decided to visit his friend. It turned out that the elephant's house is located at point 0 and his friend's house is located at point x(x > 0) of the coordinate line. In one step the elephant can move 1, 2, 3, 4 or 5 positions forward. Determine, what is the minimum number of steps he need to make in order to get to his friend's house.\n",
        "\n",
        "*Input:* The first line of the input contains an integer x (1 ≤ x ≤ 1 000 000) — The coordinate of the friend's house.\n",
        "\n",
        "*Output:* Print the minimum number of steps that elephant needs to make to get from point 0 to point x.\n",
        "\n",
        "##Examples:\n",
        "```\n",
        "Input:\n",
        "5\n",
        "Output\n",
        "1\n",
        "```\n",
        "```\n",
        "Input\n",
        "12\n",
        "Output\n",
        "3\n",
        "```\n",
        "*Note:*\n",
        "- In the first sample the elephant needs to make one step of length 5 to reach the point x.\n",
        "\n",
        "- In the second sample the elephant can get to point x if he moves by 3, 5 and 4. There are other ways to get the optimal answer but the elephant cannot reach x in less than three moves.\n",
        "\n"
      ],
      "metadata": {
        "id": "qr4qfHjapC_j"
      }
    },
    {
      "cell_type": "code",
      "execution_count": null,
      "metadata": {
        "id": "erKGtCOCoajv"
      },
      "outputs": [],
      "source": [
        "# Solution:\n",
        "\n",
        "def div_5(val):\n",
        "    if val % 5 == 0:\n",
        "        return val // 5, 0\n",
        "    else:\n",
        "        count = val // 5\n",
        "        temp = val - (count * 5)\n",
        "        return count, temp\n",
        "\n",
        "\n",
        "def div_4(count, temp):\n",
        "    if temp % 4 == 0:\n",
        "        return count + (temp // 4), 0\n",
        "    else:\n",
        "        count = count // 4\n",
        "        temp = temp - (count * 4)\n",
        "        return count, temp\n",
        "\n",
        "\n",
        "def div_3(count, temp):\n",
        "    if temp % 3 == 0:\n",
        "        return count + (temp // 3), 0\n",
        "    else:\n",
        "        count = count // 3\n",
        "        temp = temp - (count * 3)\n",
        "        return count, temp\n",
        "\n",
        "\n",
        "def div_2(count, temp):\n",
        "    if temp % 2 == 0:\n",
        "        return count + (temp // 2), 0\n",
        "    else:\n",
        "        count = count // 2\n",
        "        temp = temp - (count * 2)\n",
        "        return count, temp\n",
        "\n",
        "\n",
        "def div_1(count, temp):\n",
        "    total = count + (temp // 1)\n",
        "    return total\n",
        "\n",
        "\n",
        "dist = int(input())\n",
        "count, temp = div_5(dist)\n",
        "if temp >= 4:\n",
        "    count, temp = div_4(count, temp)\n",
        "if temp >= 3:\n",
        "    count, temp = div_3(count, temp)\n",
        "if temp >= 2:\n",
        "    count, temp = div_2(count, temp)\n",
        "if temp >= 1:\n",
        "    count = div_1(count, temp)\n",
        "\n",
        "print(count)\n"
      ]
    },
    {
      "cell_type": "markdown",
      "source": [
        "# Explanation:\n",
        "\n",
        "1. **Functions `div_5`, `div_4`, `div_3`, `div_2`, and `div_1`**: Each function tries to maximize the use of a specific step size: 5, 4, 3, 2, or 1.\n",
        "\n",
        "2. **Overall Logic**:\n",
        "   - The program starts by taking an integer input `dist`, which represents the total distance to be covered.\n",
        "   - It then begins with the largest step size (5) and tries to cover as much of `dist` as possible using that size.\n",
        "   - After using the largest step size and getting a remainder, it moves to the next largest step size, repeating this process until the smallest increment.\n",
        "   - Finally, it prints the total number of steps required to cover the distance."
      ],
      "metadata": {
        "id": "MTfKQHK44yp-"
      }
    },
    {
      "cell_type": "code",
      "source": [],
      "metadata": {
        "id": "zBazHOpc5T0Q"
      },
      "execution_count": null,
      "outputs": []
    }
  ]
}