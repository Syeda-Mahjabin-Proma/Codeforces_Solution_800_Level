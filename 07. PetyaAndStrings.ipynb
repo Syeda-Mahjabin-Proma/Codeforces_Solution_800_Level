{
  "nbformat": 4,
  "nbformat_minor": 0,
  "metadata": {
    "colab": {
      "provenance": []
    },
    "kernelspec": {
      "name": "python3",
      "display_name": "Python 3"
    },
    "language_info": {
      "name": "python"
    }
  },
  "cells": [
    {
      "cell_type": "markdown",
      "source": [
        "# **A. Petya and Strings**\n",
        "*Time limit per test: 2 seconds & Memory limit per test: 256 megabytes.*\n",
        "\n",
        "<br>\n",
        "\n",
        "*Problem:* Little Petya loves presents. His mum bought him two strings of the same size for his birthday. The strings consist of uppercase and lowercase Latin letters. Now Petya wants to compare those two strings lexicographically. The letters' case does not matter, that is an uppercase letter is considered equivalent to the corresponding lowercase letter. Help Petya perform the comparison.\n",
        "\n",
        "<br>\n",
        "\n",
        "*Input:* Each of the first two lines contains a bought string. The strings' lengths range from 1 to 100 inclusive. It is guaranteed that the strings are of the same length and also consist of uppercase and lowercase Latin letters.\n",
        "\n",
        "*Output:* If the first string is less than the second one, print ```-1```. If the second string is less than the first one, print ```1```. If the strings are equal, print ```0```.\n",
        "\n",
        "<br> **Note that the letters' case is not taken into consideration when the strings are compared.**\n",
        "\n",
        "\n",
        "###Examples:\n",
        "```\n",
        "Input-1\n",
        "aaaa\n",
        "aaaA\n",
        "```\n",
        "```\n",
        "Output-1\n",
        "0\n",
        "```\n",
        "```\n",
        "Input-2\n",
        "abs\n",
        "Abz\n",
        "```\n",
        "```\n",
        "Output-2\n",
        "-1\n",
        "```\n",
        "```\n",
        "Input-3\n",
        "abcdefg\n",
        "AbCdEfF\n",
        "```\n",
        "```\n",
        "Output-3\n",
        "1\n",
        "```\n",
        "*Note: If you want more formal information about the lexicographical order (also known as the \"dictionary order\" or \"alphabetical order\"), you can visit the following site:*\n",
        "http://en.wikipedia.org/wiki/Lexicographical_order"
      ],
      "metadata": {
        "id": "4vv7ptQaZjDy"
      }
    },
    {
      "cell_type": "code",
      "execution_count": null,
      "metadata": {
        "id": "QskN7YH5Zdga"
      },
      "outputs": [],
      "source": [
        "# Solution:\n",
        "word_lst = []\n",
        "output = [\"\", \"\"]\n",
        "for x in range(2):\n",
        "    word = (input().lower())\n",
        "    word_lst.append(word)\n",
        "\n",
        "if len(word_lst[0]) == len(word_lst[1]):\n",
        "    for x in range(len(word_lst[0])):\n",
        "        if word_lst[0][x] != word_lst[1][x]:\n",
        "            output[0] += word_lst[0][x]\n",
        "            output[1] += word_lst[1][x]\n",
        "\n",
        "if output[0] == \"\" or output[1] == \"\":\n",
        "    print(0)\n",
        "\n",
        "elif ord(output[0][0])<ord(output[1][0]):\n",
        "    print(-1)\n",
        "\n",
        "else:\n",
        "    print(1)"
      ]
    },
    {
      "cell_type": "markdown",
      "source": [
        "# Explanation:\n",
        "This code compares two input words, character by character, to determine if they differ in any positions. It then outputs a result based on the differences between the characters.\n",
        "\n",
        "1. **Input and Initialization:**\n",
        "   - Two words are taken as input, converted to lowercase, and stored in `word_lst`.\n",
        "   - An `output` list is initialized to store differing characters from each word.\n",
        "\n",
        "2. **Length Check:** The program checks if the two words are of equal length. If they are, it proceeds to compare characters at each position.\n",
        "\n",
        "3. **Character Comparison:** For each character in the two words, if the characters at the same position differ, they are added to the `output` list. `output[0]` collects differing characters from the first word, and `output[1]` collects those from the second.\n",
        "\n",
        "4. **Output Result:**\n",
        "   - If `output[0]` or `output[1]` is empty (meaning the words are identical), it prints `0`.\n",
        "   - If they differ, the program compares the ASCII values of the first characters in the differing portions:\n",
        "     - If the first differing character in `output[0]` has a lower ASCII value than that in `output[1]`, it prints `-1`.\n",
        "     - Otherwise, it prints `1`."
      ],
      "metadata": {
        "id": "XuPb8cp-bUTA"
      }
    }
  ]
}
