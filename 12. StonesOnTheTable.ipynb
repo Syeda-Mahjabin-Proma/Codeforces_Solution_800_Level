{
  "nbformat": 4,
  "nbformat_minor": 0,
  "metadata": {
    "colab": {
      "provenance": []
    },
    "kernelspec": {
      "name": "python3",
      "display_name": "Python 3"
    },
    "language_info": {
      "name": "python"
    }
  },
  "cells": [
    {
      "cell_type": "markdown",
      "source": [
        "#**A. Stones on the Table**\n",
        "**Problem Link**: *https://codeforces.com/problemset/problem/266/A*\n",
        "\n",
        "<br>\n",
        "\n",
        "*Time limit per test: 2 seconds & Memory limit per test: 256 megabytes.*\n",
        "\n",
        "<br>\n",
        "\n",
        "*Problem:* There are n stones on the table in a row, each of them can be red, green or blue. Count the minimum number of stones to take from the table so that any two neighboring stones had different colors. Stones in a row are considered neighboring if there are no other stones between them.\n",
        "\n",
        "*Input:*\n",
        "- The first line contains integer n (1 ≤ n ≤ 50) — the number of stones on the table.\n",
        "\n",
        "- The next line contains string s, which represents the colors of the stones. We'll consider the stones in the row numbered from 1 to n from left to right. Then the i-th character s equals \"R\", if the i-th stone is red, \"G\", if it's green and \"B\", if it's blue.\n",
        "\n",
        "*Output:* Print a single integer — the answer to the problem.\n",
        "\n",
        "##Examples:\n",
        "```\n",
        "Input:\n",
        "3\n",
        "RRG\n",
        "\n",
        "Output:\n",
        "1\n",
        "```\n",
        "```\n",
        "Input:\n",
        "5\n",
        "RRRRR\n",
        "\n",
        "Output:\n",
        "4\n",
        "```\n",
        "```\n",
        "Input:\n",
        "4\n",
        "BRBG\n",
        "\n",
        "Output:\n",
        "0\n",
        "```"
      ],
      "metadata": {
        "id": "XgjoIsJFo_L_"
      }
    },
    {
      "cell_type": "code",
      "execution_count": null,
      "metadata": {
        "id": "B7P9gqGwoZqz"
      },
      "outputs": [],
      "source": [
        "# Solution:\n",
        "string_input_len = int(input())\n",
        "string_input = input()\n",
        "count = 1\n",
        "for x in range(1, len(string_input)):\n",
        "    if string_input[x] == string_input[x - 1]:\n",
        "        count += 1\n",
        "print(count-1)\n"
      ]
    },
    {
      "cell_type": "markdown",
      "source": [
        "1. **Input:**\n",
        "   - The first input is an integer `string_input_len`, which indicates the number of stones.\n",
        "   - The second input is a string `string_input`, which represents the sequence of stone colors, where each stone can be 'R', 'G', or 'B'.\n",
        "\n",
        "2. **Initial Setup:** A variable `count` is initialized to `1`. This is because the first stone is automatically part of the sequence, so there's already one stone in the sequence that we don't need to remove.\n",
        "\n",
        "3. **Iterating Through the Stones:**\n",
        "   - The program loops through the stones starting from the second one (`x = 1`).\n",
        "   - In each iteration, it checks if the current stone (`string_input[x]`) is the same as the previous stone (`string_input[x - 1]`).\n",
        "     - If the two stones are the same, it indicates that we need to remove one of them. Therefore, `count` is incremented by 1.\n",
        "     - If the stones are different, the program moves to the next stone without any change in `count`.\n",
        "\n",
        "4. **Final Result:** After the loop ends, the variable `count` will hold the total number of consecutive stones that are the same. The minimum number of stones to remove is `count - 1` because each pair of consecutive stones that are the same requires one removal."
      ],
      "metadata": {
        "id": "skNiUW55tJx-"
      }
    }
  ]
}
