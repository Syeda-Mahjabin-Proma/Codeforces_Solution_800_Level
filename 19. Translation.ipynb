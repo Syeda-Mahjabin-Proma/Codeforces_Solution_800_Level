{
  "nbformat": 4,
  "nbformat_minor": 0,
  "metadata": {
    "colab": {
      "provenance": []
    },
    "kernelspec": {
      "name": "python3",
      "display_name": "Python 3"
    },
    "language_info": {
      "name": "python"
    }
  },
  "cells": [
    {
      "cell_type": "markdown",
      "source": [
        "#**A. Translation**\n",
        "**Problem Link**: *https://codeforces.com/problemset/problem/41/A*\n",
        "\n",
        "<br>\n",
        "\n",
        "*Time limit per test: 1 second & Memory limit per test: 256 megabytes.*\n",
        "\n",
        "<br>\n",
        "\n",
        "*Problem:* The translation from the Berland language into the Birland language is not an easy task. Those languages are very similar: a Berlandish word differs from a Birlandish word with the same meaning a little: it is spelled (and pronounced) reversely. For example, a Berlandish word code corresponds to a Birlandish word edoc. However, making a mistake during the \"translation\" is easy. Vasya translated the word s from Berlandish into Birlandish as t. Help him: find out if he translated the word correctly.\n",
        "\n",
        "*Input:* The first line contains word s, the second line contains word t. The words consist of lowercase Latin letters. The input data do not contain unnecessary spaces. The words are not empty and their lengths do not exceed 100 symbols.\n",
        "\n",
        "*Output:* If the word t is a word s, written reversely, print YES, otherwise print NO.\n",
        "\n",
        "##Examples:\n",
        "```\n",
        "Input:\n",
        "code\n",
        "edoc\n",
        "\n",
        "Output:\n",
        "YES\n",
        "```\n",
        "\n",
        "\n",
        "---\n",
        "\n",
        "\n",
        "```\n",
        "Input:\n",
        "abb\n",
        "aba\n",
        "\n",
        "Output:\n",
        "NO\n",
        "```\n",
        "---\n",
        "```\n",
        "Input:\n",
        "code\n",
        "code\n",
        "\n",
        "Output:\n",
        "NO\n",
        "```\n"
      ],
      "metadata": {
        "id": "FRjByhfAp5Hc"
      }
    },
    {
      "cell_type": "code",
      "execution_count": null,
      "metadata": {
        "id": "F-ywKt3ZozRT"
      },
      "outputs": [],
      "source": [
        "# Solution:\n",
        "given_str1 = input()\n",
        "given_str2 = input()\n",
        "check = \"\"\n",
        "for x in range(len(given_str1)):\n",
        "    check += given_str1[-(x+1)]\n",
        "\n",
        "if check == given_str2:\n",
        "    print(\"YES\")\n",
        "else:\n",
        "    print(\"NO\")\n",
        ""
      ]
    },
    {
      "cell_type": "markdown",
      "source": [
        "### Explanation:\n",
        "\n",
        "1. **Input two strings:** The program takes `given_str1` and `given_str2` as input.\n",
        "\n",
        "2. **Reverse `given_str1`:** Using a `for` loop, it iterates through each character of `given_str1` from the end to the beginning, building a reversed version of the string in `check`.\n",
        "\n",
        "3. **Check if `given_str2` matches the reversed `given_str1`:**\n",
        "   - If `check` (the reversed `given_str1`) is equal to `given_str2`, it prints \"YES.\"\n",
        "   - Otherwise, it prints \"NO.\""
      ],
      "metadata": {
        "id": "4b4RfSL0p5pi"
      }
    }
  ]
}
