{
  "nbformat": 4,
  "nbformat_minor": 0,
  "metadata": {
    "colab": {
      "provenance": [],
      "authorship_tag": "ABX9TyOwZ9HkmjrpZfBeDo8hhFr0"
    },
    "kernelspec": {
      "name": "python3",
      "display_name": "Python 3"
    },
    "language_info": {
      "name": "python"
    }
  },
  "cells": [
    {
      "cell_type": "markdown",
      "source": [
        "#**B. Drinks**\n",
        "\n",
        "**Problem Link:** *https://codeforces.com/problemset/problem/200/B*"
      ],
      "metadata": {
        "id": "HRP6Dk3UB7V4"
      }
    },
    {
      "cell_type": "code",
      "execution_count": null,
      "metadata": {
        "id": "wtuo2dkq-t1I"
      },
      "outputs": [],
      "source": [
        "# Solution:\n",
        "\n",
        "n = int(input())\n",
        "orange = list(map(int, input().split()))\n",
        "count = 0\n",
        "for x in orange:\n",
        "    count += x\n",
        "print(count/len(orange))\n"
      ]
    },
    {
      "cell_type": "markdown",
      "source": [
        "### **Explanation of the Code:**\n",
        "\n",
        "This program calculates the average of a list of integers provided as input. The logic works as follows:\n",
        "\n",
        "1. **Input Handling:** The program takes an integer input `n`, representing the number of orange in the fridge. After that it reads a space-separated list of integers and stores them in a list named `orange`.\n",
        "\n",
        "2. **Sum Calculation:** A variable `count` is initialized to `0`.The program iterates through each integer in the list `orange` and adds its value to `count`.\n",
        "\n",
        "3. **Average Calculation:** The average is calculated by dividing the total sum by the number of elements in orange list. And prints the result."
      ],
      "metadata": {
        "id": "2u2QV617CRws"
      }
    }
  ]
}