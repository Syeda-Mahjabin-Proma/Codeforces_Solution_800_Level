{
  "nbformat": 4,
  "nbformat_minor": 0,
  "metadata": {
    "colab": {
      "provenance": [],
      "authorship_tag": "ABX9TyP49x6c1Us3F9zE5gFAxBk0"
    },
    "kernelspec": {
      "name": "python3",
      "display_name": "Python 3"
    },
    "language_info": {
      "name": "python"
    }
  },
  "cells": [
    {
      "cell_type": "markdown",
      "source": [
        "#**228A - Is your horseshoe on the other hoof?**\n",
        "\n",
        "**Problem Link:** *https://codeforces.com/problemset/problem/228/A*"
      ],
      "metadata": {
        "id": "04apysdPSouD"
      }
    },
    {
      "cell_type": "code",
      "execution_count": null,
      "metadata": {
        "id": "DSd-pG_ySVBd"
      },
      "outputs": [],
      "source": [
        "# Solution:\n",
        "\n",
        "available = list(map(int, input().split()))\n",
        "unique = []\n",
        "for x in available:\n",
        "    if x not in unique:\n",
        "        unique.append(x)\n",
        "\n",
        "buy = len(available) - len(unique)\n",
        "\n",
        "print(buy)"
      ]
    },
    {
      "cell_type": "markdown",
      "source": [
        "## **Explanation of the Code:**\n",
        "\n",
        "1. **Input Handling:** The program takes a list `available` as input.\n",
        "\n",
        "2. **Finding Unique Items:** A list `unique` is created to check how many unique colour are available.\n",
        "\n",
        "3. **Output the Result:** Finally subtract the number of unique colour of horseshoes from all available horseshoes. And prints the result."
      ],
      "metadata": {
        "id": "H1zOO1plS5KJ"
      }
    }
  ]
}