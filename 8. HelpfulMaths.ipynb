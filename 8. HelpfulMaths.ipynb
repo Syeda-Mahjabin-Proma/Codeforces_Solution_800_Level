{
  "nbformat": 4,
  "nbformat_minor": 0,
  "metadata": {
    "colab": {
      "provenance": []
    },
    "kernelspec": {
      "name": "python3",
      "display_name": "Python 3"
    },
    "language_info": {
      "name": "python"
    }
  },
  "cells": [
    {
      "cell_type": "markdown",
      "source": [
        "#**A. Helpful Maths**\n",
        "*Time limit per test: 2 seconds & Memory limit per test: 256 megabytes.*\n",
        "\n",
        "<br>\n",
        "\n",
        "*Problem:* Xenia the beginner mathematician is a third year student at elementary school. She is now learning the addition operation.\n",
        "\n",
        "The teacher has written down the sum of multiple numbers. Pupils should calculate the sum. To make the calculation easier, the sum only contains numbers 1, 2 and 3. Still, that isn't enough for Xenia. She is only beginning to count, so she can calculate a sum only if the summands follow in non-decreasing order. For example, she can't calculate sum 1+3+2+1 but she can calculate sums 1+1+2 and 3+3.\n",
        "\n",
        "You've got the sum that was written on the board. Rearrange the summans and print the sum in such a way that Xenia can calculate the sum.\n",
        "\n",
        "\n",
        "<br>\n",
        "\n",
        "*Input:* The first line contains a non-empty string s — the sum Xenia needs to count. String s contains no spaces. It only contains digits and characters \"+\". Besides, string s is a correct sum of numbers 1, 2 and 3. String s is at most 100 characters long.\n",
        "\n",
        "*Output:* Print the new sum that Xenia can count.\n",
        "\n",
        "##Examples:\n",
        "```\n",
        "Input:\n",
        "3+2+1\n",
        "\n",
        "Output:\n",
        "1+2+3\n",
        "```\n",
        "```\n",
        "Input:\n",
        "1+1+3+1+3\n",
        "\n",
        "Output:\n",
        "1+1+1+3+3\n",
        "```\n",
        "```\n",
        "Input:\n",
        "2\n",
        "\n",
        "Output:\n",
        "2\n",
        "```\n"
      ],
      "metadata": {
        "id": "c-vnmK3DcnYD"
      }
    },
    {
      "cell_type": "code",
      "execution_count": null,
      "metadata": {
        "id": "qUy61cPdcVB3"
      },
      "outputs": [],
      "source": [
        "# Solution:\n",
        "given_val = input()\n",
        "numbers = []\n",
        "result = \"\"\n",
        "for x in given_val.split(\"+\"):\n",
        "    numbers.append(int(x))\n",
        "numbers.sort()\n",
        "\n",
        "for y in numbers:\n",
        "    result += str(y)\n",
        "    result += \"+\"\n",
        "# print(numbers)\n",
        "print(result[:-1])\n"
      ]
    },
    {
      "cell_type": "markdown",
      "source": [
        "# Explanation:\n",
        "\n",
        "1. **Input Parsing:**\n",
        "   - The input string `given_val` contains numbers separated by `+` symbols.\n",
        "   - The code splits this string by the `+` symbol, resulting in a list of string numbers.\n",
        "\n",
        "2. **Convert to Integers and Sort:**\n",
        "   - Each split part is converted to an integer and added to the list `numbers`.\n",
        "   - The `numbers` list is then sorted in ascending order.\n",
        "\n",
        "3. **Create Output String:**\n",
        "   - An empty string `result` is used to build the final sorted output.\n",
        "   - The code iterates over the sorted list `numbers`, appending each number to `result` as a string, followed by a `+`.\n",
        "   - After the loop, `result[:-1]` is printed to remove the last `+` symbol, ensuring the output is correctly formatted."
      ],
      "metadata": {
        "id": "rigbm9wqeR3T"
      }
    }
  ]
}