{
  "nbformat": 4,
  "nbformat_minor": 0,
  "metadata": {
    "colab": {
      "provenance": [],
      "authorship_tag": "ABX9TyMFCCBGQMA06dUfEYMPVGaH"
    },
    "kernelspec": {
      "name": "python3",
      "display_name": "Python 3"
    },
    "language_info": {
      "name": "python"
    }
  },
  "cells": [
    {
      "cell_type": "markdown",
      "source": [
        "#**A. Ultra-Fast Mathematician**\n",
        "\n",
        "**Problem Link**: *https://codeforces.com/problemset/problem/61/A*"
      ],
      "metadata": {
        "id": "tj93XZNTMiCp"
      }
    },
    {
      "cell_type": "code",
      "execution_count": null,
      "metadata": {
        "id": "NgHe1A9jMH8X"
      },
      "outputs": [],
      "source": [
        "# Solution:\n",
        "\n",
        "num1 = input()\n",
        "num2 = input()\n",
        "temp = \"\"\n",
        "if len(num1) == len(num2):\n",
        "    for x in range(len(num2)):\n",
        "        if num1[x] == num2[x]:\n",
        "            temp += \"0\"\n",
        "        else:\n",
        "            temp += \"1\"\n",
        "\n",
        "print(temp)\n"
      ]
    },
    {
      "cell_type": "markdown",
      "source": [
        "## **Explanation of the Code:**\n",
        "\n",
        "1. **Input Handling:** It akes two binary strings, `num1` and `num2`, as input.\n",
        "\n",
        "2. **Validation of Length:** It checks if the lengths of `num1` and `num2` are equal. If not, the code assumes incorrect input.\n",
        "\n",
        "3. **Character-by-Character Comparison:** A temporary string `temp` is initialized to store the result. For each character at position `x` in the strings if the characters are same, 0 is added in temp otherwise 1 added.\n",
        "\n",
        "4. **Output the Result:** The resulting binary string `temp` is printed.\n"
      ],
      "metadata": {
        "id": "MWag2VCPM1Xx"
      }
    }
  ]
}