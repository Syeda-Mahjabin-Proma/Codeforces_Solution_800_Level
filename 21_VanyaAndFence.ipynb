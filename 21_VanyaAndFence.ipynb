{
  "nbformat": 4,
  "nbformat_minor": 0,
  "metadata": {
    "colab": {
      "provenance": [],
      "authorship_tag": "ABX9TyNPqTkVnoOMqn6GRD6fy1ga"
    },
    "kernelspec": {
      "name": "python3",
      "display_name": "Python 3"
    },
    "language_info": {
      "name": "python"
    }
  },
  "cells": [
    {
      "cell_type": "markdown",
      "source": [
        "#**A. Vanya and Fence**\n",
        "\n",
        "<br>\n",
        "\n",
        "**Problem Link:** *https://codeforces.com/problemset/problem/677/A*\n",
        "\n",
        "<br>\n",
        "\n",
        "**Time limit per test: 1 second & Memory limit per test: 256 megabytes.**\n",
        "\n",
        "*Problem:* Vanya and his friends are walking along the fence of height h and they do not want the guard to notice them. In order to achieve this the height of each of the friends should not exceed h. If the height of some person is greater than h he can bend down and then he surely won't be noticed by the guard. The height of the i-th person is equal to ai.\n",
        "\n",
        "Consider the width of the person walking as usual to be equal to 1, while the width of the bent person is equal to 2. Friends want to talk to each other while walking, so they would like to walk in a single row. What is the minimum width of the road, such that friends can walk in a row and remain unattended by the guard?\n",
        "\n",
        "*Input:*\n",
        "- The first line of the input contains two integers n and h (1 ≤ n ≤ 1000, 1 ≤ h ≤ 1000) — the number of friends and the height of the fence, respectively.\n",
        "\n",
        "- The second line contains n integers ai (1 ≤ ai ≤ 2h), the i-th of them is equal to the height of the i-th person.\n",
        "\n",
        "*Output:* Print a single integer — the minimum possible valid width of the road.\n",
        "\n",
        "##Examples\n",
        "```\n",
        "Input:\n",
        "3 7\n",
        "4 5 14\n",
        "\n",
        "Output:\n",
        "4\n",
        "```\n",
        "```\n",
        "Input:\n",
        "6 1\n",
        "1 1 1 1 1 1\n",
        "\n",
        "Output:\n",
        "6\n",
        "```\n",
        "```\n",
        "Input:\n",
        "6 5\n",
        "7 6 8 9 10 5\n",
        "\n",
        "Output:\n",
        "11\n",
        "```\n",
        "*Note:*\n",
        "- In the first sample, only person number 3 must bend down, so the required width is equal to 1 + 1 + 2 = 4.\n",
        "\n",
        "- In the second sample, all friends are short enough and no one has to bend, so the width 1 + 1 + 1 + 1 + 1 + 1 = 6 is enough.\n",
        "\n",
        "- In the third sample, all the persons have to bend, except the last one. The required minimum width of the road is equal to 2 + 2 + 2 + 2 + 2 + 1 = 11.\n",
        "\n",
        "\n"
      ],
      "metadata": {
        "id": "JBP9jJfHjAtC"
      }
    },
    {
      "cell_type": "code",
      "execution_count": null,
      "metadata": {
        "id": "9jcRPQhJi9y1"
      },
      "outputs": [],
      "source": [
        "#  Solution:\n",
        "n, h = map(int, input().split())\n",
        "arr = list(map(int, input().split()))\n",
        "temp = 0\n",
        "for i in range(len(arr)):\n",
        "    if arr[i] % h == 0:\n",
        "        temp += arr[i]//h\n",
        "    else:\n",
        "        temp += arr[i]//h + 1\n",
        "\n",
        "print(temp)\n"
      ]
    },
    {
      "cell_type": "markdown",
      "source": [
        "## Explanation:\n",
        "\n",
        "1. **Input the values of `n`, `h`, and `arr`:**  \n",
        "   - The program reads two integers, `n` (number of elements in the array) and `h` (height of tree)\n",
        "   - It then takes a list of `n` integers name `arr` as input.\n",
        "\n",
        "2. **Initialize variables:** A variable `temp` is initialized to `0` to store the cumulative total.  \n",
        "\n",
        "3. **Calculate the required sum:**  \n",
        "   - The program iterates through each element in the list `arr` using a `for` loop.\n",
        "   - For each element, it checks if the element is perfectly divisible by `h`:\n",
        "     - If `arr[i] % h == 0`, it adds `arr[i] // h` to `temp`.  \n",
        "     - Otherwise, it adds `arr[i] // h + 1` to `temp`. This accounts for the remainder by rounding up the division to the nearest integer.\n",
        "\n",
        "4. **Output the result:** After completing the loop, `temp` holds the cumulative value based on the above logic, which is then printed."
      ],
      "metadata": {
        "id": "Usboq6umlT-T"
      }
    }
  ]
}