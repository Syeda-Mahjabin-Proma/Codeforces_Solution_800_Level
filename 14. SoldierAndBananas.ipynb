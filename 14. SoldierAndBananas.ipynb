{
  "nbformat": 4,
  "nbformat_minor": 0,
  "metadata": {
    "colab": {
      "provenance": []
    },
    "kernelspec": {
      "name": "python3",
      "display_name": "Python 3"
    },
    "language_info": {
      "name": "python"
    }
  },
  "cells": [
    {
      "cell_type": "markdown",
      "source": [
        "#**A. Soldier and Bananas**\n",
        "*Time limit per test: 1 second & Memory limit per test: 256 megabytes.*\n",
        "\n",
        "\n",
        "*Problem:* A soldier wants to buy w bananas in the shop. He has to pay k dollars for the first banana, 2k dollars for the second one and so on (in other words, he has to pay i·k dollars for the i-th banana).\n",
        "\n",
        "He has n dollars. How many dollars does he have to borrow from his friend soldier to buy w bananas?\n",
        "\n",
        "*Input:* The first line contains three positive integers k, n, w (1  ≤  k, w  ≤  1000, 0 ≤ n ≤ 109), the cost of the first banana, initial number of dollars the soldier has and number of bananas he wants.\n",
        "\n",
        "*Output:* Output one integer — the amount of dollars that the soldier must borrow from his friend. If he doesn't have to borrow money, output 0.\n",
        "\n",
        "##Examples:\n",
        "```\n",
        "Input\n",
        "3 17 4\n",
        "\n",
        "Output\n",
        "13\n",
        "```\n"
      ],
      "metadata": {
        "id": "o8pDBwNNpG0E"
      }
    },
    {
      "cell_type": "code",
      "execution_count": null,
      "metadata": {
        "id": "UnUUtYkuobMx"
      },
      "outputs": [],
      "source": [
        "# Solution:\n",
        "first_banana_cost, money, banana_num = map(int, input().split())\n",
        "total_cost = 0\n",
        "for i in range(1, banana_num+1):\n",
        "    total_cost += first_banana_cost*i\n",
        "\n",
        "print(max(0, total_cost-money))"
      ]
    },
    {
      "cell_type": "markdown",
      "source": [
        "# Explanation:\n",
        "\n",
        "1. **Input Parsing**:\n",
        "    - `first_banana_cost`: Cost of the first banana.\n",
        "    - `money`: Total amount of money available.\n",
        "    - `banana_num`: Total number of bananas you want to buy.\n",
        "   \n",
        "2. **Calculate Total Cost**:\n",
        "   - Initializes the variable `total_cost` to hold the cumulative cost.\n",
        "   - A loop iterates from 1 to `banana_num`.\n",
        "   - For each banana, it calculates the cost of that banana adds it to `total_cost`.\n",
        "\n",
        "3. **Calculate Additional Money Needed**:\n",
        "     - This calculates the difference between `total_cost` and `money`.\n",
        "     - It prints 0 if the money available is enough to cover the `total_cost`."
      ],
      "metadata": {
        "id": "HG_axVWC7Kc5"
      }
    }
  ]
}