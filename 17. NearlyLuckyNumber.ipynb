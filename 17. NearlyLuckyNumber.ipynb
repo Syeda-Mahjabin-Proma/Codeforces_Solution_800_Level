{
  "nbformat": 4,
  "nbformat_minor": 0,
  "metadata": {
    "colab": {
      "provenance": []
    },
    "kernelspec": {
      "name": "python3",
      "display_name": "Python 3"
    },
    "language_info": {
      "name": "python"
    }
  },
  "cells": [
    {
      "cell_type": "markdown",
      "source": [
        "#**A. Nearly Lucky Number**\n",
        "*Time limit per test: 2 seconds & Memory limit per test: 256 megabytes.*\n",
        "\n",
        "<br>\n",
        "\n",
        "*Problem:* Petya loves lucky numbers. We all know that lucky numbers are the positive integers whose decimal representations contain only the lucky digits 4 and 7. For example, numbers 47, 744, 4 are lucky and 5, 17, 467 are not.\n",
        "\n",
        "Unfortunately, not all numbers are lucky. Petya calls a number nearly lucky if the number of lucky digits in it is a lucky number. He wonders whether number n is a nearly lucky number.\n",
        "\n",
        "*Input:* The only line contains an integer n (1 ≤ n ≤ 1018).\n",
        "\n",
        "Please do not use the %lld specificator to read or write 64-bit numbers in С++. It is preferred to use the cin, cout streams or the %I64d specificator.\n",
        "\n",
        "*Output:* Print on the single line \"YES\" if n is a nearly lucky number. Otherwise, print \"NO\" (without the quotes).\n",
        "\n",
        "##Examples:\n",
        "```\n",
        "Input:\n",
        "40047\n",
        "\n",
        "Output:\n",
        "NO\n",
        "```\n",
        "```\n",
        "Input:\n",
        "7747774\n",
        "Output:\n",
        "YES\n",
        "```\n",
        "```\n",
        "Input:\n",
        "1000000000000000000\n",
        "Output:\n",
        "NO\n",
        "```\n",
        "\n",
        "*Note*\n",
        "- In the first sample there are 3 lucky digits (first one and last two), so the answer is \"NO\".\n",
        "\n",
        "- In the second sample there are 7 lucky digits, 7 is lucky number, so the answer is \"YES\".\n",
        "\n",
        "- In the third sample there are no lucky digits, so the answer is \"NO\".\n",
        "\n"
      ],
      "metadata": {
        "id": "GfjOHdT5Dbgq"
      }
    },
    {
      "cell_type": "code",
      "execution_count": null,
      "metadata": {
        "id": "IFL24oClDWiN"
      },
      "outputs": [],
      "source": [
        "# Solution:\n",
        "num = int(input())\n",
        "count = 0\n",
        "for val in str(num):\n",
        "    if val == \"4\":\n",
        "        count += 1\n",
        "    if val == \"7\":\n",
        "        count += 1\n",
        "\n",
        "if count == 4 or count == 7:\n",
        "    print(\"YES\")\n",
        "\n",
        "else:\n",
        "    print(\"NO\")\n"
      ]
    },
    {
      "cell_type": "markdown",
      "source": [
        "# Explanation:\n",
        "\n",
        "1. **Input Parsing**: Reads an integer input `num`.\n",
        "\n",
        "2. **Counting Lucky Digits**: Initializes a counter `count` to keep track of occurrences of the digits \"4\" and \"7\" with the help of a loop.\n",
        "\n",
        "3. **Check the Count**: After the loop, if the value if `count` is `4` or `7`, it is a lucky number and prints `YES` else prints `NO`."
      ],
      "metadata": {
        "id": "Xor3UodYEP0d"
      }
    }
  ]
}