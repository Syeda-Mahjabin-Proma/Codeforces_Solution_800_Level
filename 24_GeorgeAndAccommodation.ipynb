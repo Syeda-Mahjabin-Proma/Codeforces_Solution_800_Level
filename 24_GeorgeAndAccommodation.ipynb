{
  "nbformat": 4,
  "nbformat_minor": 0,
  "metadata": {
    "colab": {
      "provenance": [],
      "authorship_tag": "ABX9TyMTk9rTLjdr+Sl35DCtXPc4"
    },
    "kernelspec": {
      "name": "python3",
      "display_name": "Python 3"
    },
    "language_info": {
      "name": "python"
    }
  },
  "cells": [
    {
      "cell_type": "markdown",
      "source": [
        "#**A. George and Accommodation**\n",
        "\n",
        "**Problem Link:** *https://codeforces.com/problemset/problem/467/A*"
      ],
      "metadata": {
        "id": "WZNNeefs7xd8"
      }
    },
    {
      "cell_type": "code",
      "execution_count": null,
      "metadata": {
        "id": "DT5OLO_z7u6Q"
      },
      "outputs": [],
      "source": [
        "# Solution:\n",
        "n = int(input())\n",
        "count = 0\n",
        "for x in range(n):\n",
        "    p, q = map(int, input().split())\n",
        "    if q >= p+2:\n",
        "        count += 1\n",
        "print(count)\n"
      ]
    },
    {
      "cell_type": "markdown",
      "source": [
        "### **Explanation of the Code:**\n",
        "\n",
        "1. **Input Handling:** The program takes an integer input, `n`, representing the number rooms in the room and each of the next n lines contains two integers, `p` (people living in the room) and `q` (represents the room can accommodate)\n",
        "\n",
        "2. **Initialization:** A counter variable `count` is initialized to 0 to track the number of rooms where George and Alex can move in.\n",
        "\n",
        "3. **Processing the Pairs:** The program iterates n times and reads the integers p and q from the input. After that it checks if **`p+2 <= q`** or not as both of George & Alax need to move on to a new room. The count increments if true.\n",
        "\n",
        "4. **Output the Result:** After processing all the values it prints the value of `count` indicating the total number of available room to move on."
      ],
      "metadata": {
        "id": "a9Bcx0897wiv"
      }
    }
  ]
}