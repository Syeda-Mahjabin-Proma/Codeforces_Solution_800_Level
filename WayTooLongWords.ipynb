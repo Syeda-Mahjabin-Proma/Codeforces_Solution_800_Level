{
  "nbformat": 4,
  "nbformat_minor": 0,
  "metadata": {
    "colab": {
      "provenance": []
    },
    "kernelspec": {
      "name": "python3",
      "display_name": "Python 3"
    },
    "language_info": {
      "name": "python"
    }
  },
  "cells": [
    {
      "cell_type": "markdown",
      "source": [
        "# **A. Way Too Long Words**\n",
        "*Time limit per test: 1 second & Memory limit per test: 256 megabytes. <br>\n",
        "Sometimes some words like \"localization\" or \"internationalization\" are so long that writing them many times in one text is quite tiresome.*\n",
        "\n",
        "<br>\n",
        "\n",
        "*Problem:* Let's consider a word too long, if its length is strictly more than 10 characters. All too long words should be replaced with a special abbreviation.\n",
        "\n",
        "This abbreviation is made like this: we write down the first and the last letter of a word and between them we write the number of letters between the first and the last letters. That number is in decimal system and doesn't contain any leading zeroes.\n",
        "\n",
        "Thus, \"localization\" will be spelt as \"l10n\", and \"internationalization\" will be spelt as \"i18n\".\n",
        "\n",
        "You are suggested to automatize the process of changing the words with abbreviations. At that all too long words should be replaced by the abbreviation and the words that are not too long should not undergo any changes.\n",
        "\n",
        "*Input:* The first line contains an integer n (1 ≤ n ≤ 100). Each of the following n lines contains one word. All the words consist of lowercase Latin letters and possess the lengths of from 1 to 100 characters.\n",
        "\n",
        "*Output:* Print n lines. The i-th line should contain the result of replacing of the i-th word from the input data.\n",
        "\n",
        "```\n",
        "Input:\n",
        "4\n",
        "word\n",
        "localization\n",
        "internationalization\n",
        "pneumonoultramicroscopicsilicovolcanoconiosis\n",
        "```\n",
        "\n",
        "```\n",
        "Output:\n",
        "word\n",
        "l10n\n",
        "i18n\n",
        "p43s\n"
      ],
      "metadata": {
        "id": "3-ulbPPdJwRD"
      }
    },
    {
      "cell_type": "code",
      "source": [
        "# Solution\n",
        "number = int(input())\n",
        "for x in range(number):\n",
        "    input_word = (input()).lower()\n",
        "    if (len(input_word)) > 10:\n",
        "        a = input_word[0]\n",
        "        a += str(len(input_word) - 2)\n",
        "        a += input_word[-1]\n",
        "        print(a)\n",
        "\n",
        "    else:\n",
        "        print(input_word)"
      ],
      "metadata": {
        "id": "SHBeRLtTJv9y"
      },
      "execution_count": null,
      "outputs": []
    },
    {
      "cell_type": "markdown",
      "source": [
        "# Explanation:\n",
        "\n",
        "The program takes an integer number as input, which represents the number of words to process. For each word, it checks its length and applies the following logic:\n",
        "\n",
        "1. **Input and Conversion:** For each word entered, it is immediately converted to lowercase for consistent processing.\n",
        "2. **Abbreviation Condition:** If the word has more than 10 characters:\n",
        "   - It abbreviates the word by:\n",
        "     - Taking the first letter.\n",
        "     - Adding the number of characters between the first and last letter (`len(input_word) - 2`).\n",
        "     - Appending the last letter.\n",
        "   - This condensed format is then printed\n",
        "3. **Otherwise:** If the word has 10 or fewer characters, it is printed as it is without abbreviation."
      ],
      "metadata": {
        "id": "_PlLdyjQLl3Q"
      }
    }
  ]
}