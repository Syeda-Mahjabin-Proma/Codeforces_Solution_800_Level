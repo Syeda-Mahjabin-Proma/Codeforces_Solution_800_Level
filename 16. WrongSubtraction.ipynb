{
  "nbformat": 4,
  "nbformat_minor": 0,
  "metadata": {
    "colab": {
      "provenance": []
    },
    "kernelspec": {
      "name": "python3",
      "display_name": "Python 3"
    },
    "language_info": {
      "name": "python"
    }
  },
  "cells": [
    {
      "cell_type": "markdown",
      "source": [
        "#**A. Wrong Subtraction**\n",
        "**Problem Link**: *https://codeforces.com/problemset/problem/977/A*\n",
        "\n",
        "<br>\n",
        "\n",
        "*Time limit per test: 1 second & Memory limit per test: 256 megabytes.*\n",
        "\n",
        "<br>\n",
        "\n",
        "*Problem:* Little girl Tanya is learning how to decrease a number by one, but she does it wrong with a number consisting of two or more digits. Tanya subtracts one from a number by the following algorithm:\n",
        "\n",
        "    if the last digit of the number is non-zero, she decreases the number by one;\n",
        "    if the last digit of the number is zero, she divides the number by 10 (i.e. removes the last digit).\n",
        "\n",
        "\n",
        "You are given an integer number n. Tanya will subtract one from it k times. Your task is to print the result after all k subtractions.\n",
        "\n",
        "**It is guaranteed that the result will be positive integer number.**\n",
        "\n",
        "\n",
        "*Input:* The first line of the input contains two integer numbers n\n",
        " and k (2≤n≤109, 1≤k≤50) — the number from which Tanya will subtract and the number of subtractions correspondingly.\n",
        "\n",
        "*Output:* Print one integer number — the result of the decreasing n by one k times.\n",
        "\n",
        "\n",
        "##Examples:\n",
        "```\n",
        "Input:\n",
        "512 4\n",
        "\n",
        "Output:\n",
        "50\n",
        "```\n",
        "```\n",
        "Input:\n",
        "1000000000 9\n",
        "\n",
        "Output:\n",
        "1\n",
        "```\n",
        "***Note: The first example corresponds to the following sequence: 512→511→510→51→50***\n",
        "\n",
        "\n",
        "\n"
      ],
      "metadata": {
        "id": "15YKhCpRpQ3k"
      }
    },
    {
      "cell_type": "code",
      "execution_count": null,
      "metadata": {
        "id": "7yuTuffNouJp"
      },
      "outputs": [],
      "source": [
        "# Solution:\n",
        "num, iteration = map(int, input().split())\n",
        "result = 0\n",
        "for i in range(iteration):\n",
        "    str_num = str(num)\n",
        "    if str_num[-1] == \"0\":\n",
        "        num = num//10\n",
        "    else:\n",
        "        num -= 1\n",
        "\n",
        "print(num)"
      ]
    },
    {
      "cell_type": "markdown",
      "source": [
        "# Explanation:\n",
        "\n",
        "1. **Input Parsing**: Takes `num` and `iteration` as two input.\n",
        "   \n",
        "2. **Check and Transform the Last Digit**:\n",
        "   - Converts the number into string as intigers are not iterable.\n",
        "   - if the last digit of the number is 0 or not. If it's zero, divided the number by 10 else deducts 1 from the number and at the end of the full iteration, it prints the `num`."
      ],
      "metadata": {
        "id": "Fm_Rsq7h9qgJ"
      }
    }
  ]
}
