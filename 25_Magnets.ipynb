{
  "nbformat": 4,
  "nbformat_minor": 0,
  "metadata": {
    "colab": {
      "provenance": [],
      "authorship_tag": "ABX9TyMS4a4HL27fhD4NcFsi4vEW",
      "include_colab_link": true
    },
    "kernelspec": {
      "name": "python3",
      "display_name": "Python 3"
    },
    "language_info": {
      "name": "python"
    }
  },
  "cells": [
    {
      "cell_type": "markdown",
      "metadata": {
        "id": "view-in-github",
        "colab_type": "text"
      },
      "source": [
        "<a href=\"https://colab.research.google.com/github/Syeda-Mahjabin-Proma/Codeforces_Solution_800_Level/blob/main/25_Magnets.ipynb\" target=\"_parent\"><img src=\"https://colab.research.google.com/assets/colab-badge.svg\" alt=\"Open In Colab\"/></a>"
      ]
    },
    {
      "cell_type": "markdown",
      "source": [
        "#**A. Magnets**\n",
        "**Problem Link:** *https://codeforces.com/problemset/problem/344/A*"
      ],
      "metadata": {
        "id": "sp9AzLCXifSG"
      }
    },
    {
      "cell_type": "code",
      "execution_count": null,
      "metadata": {
        "id": "wEHSi59diXmB"
      },
      "outputs": [],
      "source": [
        "# Solution:\n",
        "\n",
        "n = int(input())\n",
        "count = 1\n",
        "temp = []\n",
        "for x in range(n):\n",
        "    magnet_char = input()\n",
        "    temp.append(magnet_char)\n",
        "\n",
        "for x in range(1, len(temp)):\n",
        "    if temp[x] != temp [x-1]:\n",
        "        count += 1\n",
        "\n",
        "print(count)\n"
      ]
    },
    {
      "cell_type": "markdown",
      "source": [
        "## **Explanation of the Code:**\n",
        "\n",
        "This program determines the number of groups of magnets with the same polarity, based on their alignment. The logic works as follows:\n",
        "\n",
        "1. **Input Handling:** The program starts by reading an integer `n`, which specifies the total number of magnets. After that, it reads the magnet orientations **01** (plus-minus) or **10** (minus-plaus) one by one, storing them in a list called `temp`.\n",
        "\n",
        "2. **Initialization:** A counter variable `count` is initialized to 1 as there will be at least one group of magnet.\n",
        "\n",
        "3. **Grouping Logic:** The program iterates through the list of magnets starting from the second element to the last. For each magnet, it checks if its polarity is different from the previous magnet. If the polarities differ, it indicates the start of a new group, and count is incremented.\n",
        "\n",
        "4. **Output the Result:** Finally, the program prints the value of `count`, which represents the total number of groups formed by consecutive magnets with the same polarity."
      ],
      "metadata": {
        "id": "i4vBn_YBi4te"
      }
    }
  ]
}