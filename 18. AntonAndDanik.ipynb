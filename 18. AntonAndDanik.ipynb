{
  "nbformat": 4,
  "nbformat_minor": 0,
  "metadata": {
    "colab": {
      "provenance": []
    },
    "kernelspec": {
      "name": "python3",
      "display_name": "Python 3"
    },
    "language_info": {
      "name": "python"
    }
  },
  "cells": [
    {
      "cell_type": "markdown",
      "source": [
        "#**A. Anton and Danik**\n",
        "*Time limit per test: 1 second & Memory limit per test: 256 megabytes.*\n",
        "\n",
        "\n",
        "<br>\n",
        "\n",
        "*Problem:* Anton likes to play chess, and so does his friend Danik.\n",
        "\n",
        "Once they have played n games in a row. For each game it's known who was the winner — Anton or Danik. None of the games ended with a tie.\n",
        "\n",
        "Now Anton wonders, who won more games, he or Danik? Help him determine this.\n",
        "\n",
        "*Input:*\n",
        "- The first line of the input contains a single integer n (1 ≤ n ≤ 100 000) — the number of games played.\n",
        "\n",
        "- The second line contains a string s, consisting of n uppercase English letters 'A' and 'D' — the outcome of each of the games. The i-th character of the string is equal to 'A' if the Anton won the i-th game and 'D' if Danik won the i-th game.\n",
        "\n",
        "*Output:*\n",
        "- If Anton won more games than Danik, print \"Anton\" (without quotes) in the only line of the output.\n",
        "\n",
        "- If Danik won more games than Anton, print \"Danik\" (without quotes) in the only line of the output.\n",
        "\n",
        "- If Anton and Danik won the same number of games, print \"Friendship\" (without quotes).\n",
        "\n",
        "##Examples:\n",
        "```\n",
        "Input:\n",
        "6\n",
        "ADAAAA\n",
        "\n",
        "Output:\n",
        "Anton\n",
        "```\n",
        "```\n",
        "Input:\n",
        "7\n",
        "DDDAADA\n",
        "\n",
        "Output:\n",
        "Danik\n",
        "```\n",
        "```\n",
        "Input:\n",
        "6\n",
        "DADADA\n",
        "\n",
        "Output:\n",
        "Friendship\n",
        "```\n",
        "*Note:*\n",
        "- In the first sample, Anton won 6 games, while Danik — only 1. Hence, the answer is \"Anton\".\n",
        "\n",
        "- In the second sample, Anton won 3 games and Danik won 4 games, so the answer is \"Danik\".\n",
        "\n",
        "- In the third sample, both Anton and Danik won 3 games and the answer is \"Friendship\"."
      ],
      "metadata": {
        "id": "IprgjdKhllEX"
      }
    },
    {
      "cell_type": "code",
      "execution_count": null,
      "metadata": {
        "id": "UQAr-ue_le6M"
      },
      "outputs": [],
      "source": [
        "# Solution:\n",
        "\n",
        "string_len = int(input())\n",
        "given_string = input().upper()\n",
        "num_A = 0\n",
        "num_D = 0\n",
        "for i in range(string_len):\n",
        "    if given_string[i] == \"A\":\n",
        "        num_A += 1\n",
        "    if given_string[i] == \"D\":\n",
        "        num_D += 1\n",
        "\n",
        "if num_A == num_D:\n",
        "    print(\"Friendship\")\n",
        "\n",
        "if num_A > num_D:\n",
        "    print(\"Anton\")\n",
        "\n",
        "if num_D > num_A:\n",
        "    print(\"Danik\")\n"
      ]
    },
    {
      "cell_type": "markdown",
      "source": [
        "# Explanation:\n",
        "\n",
        "1. **Input the length of the string:** It takes `string_len` and `given_string` as input and converts `given_string` into uppercase.\n",
        "\n",
        "3. **Initialize counters for \"A\" and \"D\":** Two counters, `num_A` and `num_D`are used to count the occurrences of \"A\" and \"D\" in the string.\n",
        "\n",
        "4. **Count occurrences of \"A\" and \"D\":** The program iterates over each character in `given_string`. If the character is \"A,\" it increments `num_A`. If the character is \"D,\" it increments `num_D`.\n",
        "\n",
        "5. **Determine and print the result based on counts:**\n",
        "    - If `num_A` equals `num_D`, it prints \"Friendship,\"\n",
        "    - If `num_A` is greater than `num_D`, it prints \"Anton,\"\n",
        "    - If `num_D` is greater than `num_A`, it prints \"Danik,\""
      ],
      "metadata": {
        "id": "CBtt0ulSmhoP"
      }
    }
  ]
}