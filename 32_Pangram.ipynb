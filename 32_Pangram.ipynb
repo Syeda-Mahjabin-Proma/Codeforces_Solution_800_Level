{
  "nbformat": 4,
  "nbformat_minor": 0,
  "metadata": {
    "colab": {
      "provenance": [],
      "authorship_tag": "ABX9TyPo6rMzwgxahDSeAyXhCFrK"
    },
    "kernelspec": {
      "name": "python3",
      "display_name": "Python 3"
    },
    "language_info": {
      "name": "python"
    }
  },
  "cells": [
    {
      "cell_type": "markdown",
      "source": [
        "#**520A - Pangram**\n",
        "\n",
        "**Problem Link**: *https://codeforces.com/problemset/problem/520/A*"
      ],
      "metadata": {
        "id": "BDFJC5O9U_u2"
      }
    },
    {
      "cell_type": "code",
      "execution_count": null,
      "metadata": {
        "id": "Yk4G0R7wT02j"
      },
      "outputs": [],
      "source": [
        "# Solution:\n",
        "word_len = int(input())\n",
        "word = input().lower()\n",
        "temp = \"\"\n",
        "for x in word:\n",
        "    if x not in temp:\n",
        "        temp+=x\n",
        "if len(temp) == 26:\n",
        "    print(\"YES\")\n",
        "else:\n",
        "    print(\"NO\")\n"
      ]
    },
    {
      "cell_type": "markdown",
      "source": [
        "### **Explanation:**\n",
        "\n",
        "This program checks if the given word contains all 26 letters of the English alphabet (a pangram). The logic works as follows:\n",
        "\n",
        "1. **Input Handling:**\n",
        "   - The program takes two inputs:\n",
        "     - An integer `word_len` representing the length of the word.\n",
        "     - A string `word` which is converted to lowercase to ensure uniformity.\n",
        "\n",
        "2. **Finding Unique Letters:**\n",
        "   - An empty string `temp` is initialized to store unique letters.\n",
        "   - The program iterates through each character in `word`. If the character is not already in `temp`, it is added to `temp`.\n",
        "\n",
        "3. **Checking for Pangram:**\n",
        "   - After collecting all unique letters, the program checks if the length of `temp` is 26 (indicating all 26 letters of the alphabet are present).\n",
        "\n",
        "4. **Output the Result:**\n",
        "   - If the length of `temp` is 26, the program prints `\"YES\"` (the word is a pangram).\n",
        "   - Otherwise, it prints `\"NO\"` (the word is not a pangram)."
      ],
      "metadata": {
        "id": "rIBSzqvlVPwb"
      }
    }
  ]
}