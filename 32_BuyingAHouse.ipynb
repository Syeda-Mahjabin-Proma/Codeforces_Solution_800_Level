{
  "nbformat": 4,
  "nbformat_minor": 0,
  "metadata": {
    "colab": {
      "provenance": [],
      "authorship_tag": "ABX9TyO7nEo251UN06PbKo6cL50K"
    },
    "kernelspec": {
      "name": "python3",
      "display_name": "Python 3"
    },
    "language_info": {
      "name": "python"
    }
  },
  "cells": [
    {
      "cell_type": "markdown",
      "source": [
        "#**796A - Buying A House**\n",
        "**Problem Link:** *https://codeforces.com/problemset/problem/796/A*"
      ],
      "metadata": {
        "id": "qIMEjJ7V22fQ"
      }
    },
    {
      "cell_type": "code",
      "execution_count": null,
      "metadata": {
        "id": "P-T92Ufp2BW7"
      },
      "outputs": [],
      "source": [
        "# Solution:\n",
        "\n",
        "n, m, k = map(int, input().split())\n",
        "house = list(map(int, input().split()))\n",
        "min_distance = 999999999999999999999999\n",
        "\n",
        "for x in range(len(house)):\n",
        "    if 0 < house[x] <= k:\n",
        "        distance = abs((x+1) - m) * 10\n",
        "        if distance<min_distance:\n",
        "            min_distance = distance\n",
        "\n",
        "print(min_distance)"
      ]
    },
    {
      "cell_type": "markdown",
      "source": [
        "### **Explanation of the Code:**\n",
        "\n",
        "1. **Input Handling:**\n",
        "   - The program takes three integers `n`, `m`, and `k`, where:\n",
        "     - `n`: Total number of houses.\n",
        "     - `m`: The current house position.\n",
        "     - `k`: The maximum value allowed for a house to be considered.\n",
        "   - A list of integers `house` is taken as input, representing the price of the houses.\n",
        "\n",
        "2. **Initialization:** A variable `min_distance` is initialized with a very large number to store the minimum distance found during the iteration.\n",
        "\n",
        "3. **Finding Eligible Houses:**\n",
        "   - The program iterates through the list `house` using the index `x`:\n",
        "     - It checks if the value of the house at index `x` is greater than `0` and less than or equal to `k`.\n",
        "     - If the condition is met, the distance to this house is calculated as `abs((x + 1) - m) * 10` (converted to a 1-based index).\n",
        "     - If the calculated distance is smaller than `min_distance`, it updates `min_distance`.\n",
        "\n",
        "4. **Output the Result:** After completing the loop, the program prints the smallest distance."
      ],
      "metadata": {
        "id": "cCkwtAgb2Kin"
      }
    }
  ]
}