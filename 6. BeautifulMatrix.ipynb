{
  "nbformat": 4,
  "nbformat_minor": 0,
  "metadata": {
    "colab": {
      "provenance": []
    },
    "kernelspec": {
      "name": "python3",
      "display_name": "Python 3"
    },
    "language_info": {
      "name": "python"
    }
  },
  "cells": [
    {
      "cell_type": "markdown",
      "source": [
        "# **A. Beautiful Matrix**\n",
        "*Time limit per test: 2 seconds & Memory limit per test: 256 megabytes.*\n",
        "\n",
        "<br>\n",
        "\n",
        "*Problem:* You've got a 5 × 5 matrix, consisting of 24 zeroes and a single number one. Let's index the matrix rows by numbers from 1 to 5 from top to bottom, let's index the matrix columns by numbers from 1 to 5 from left to right. In one move, you are allowed to apply one of the two following transformations to the matrix:\n",
        "\n",
        "Swap two neighboring matrix rows, that is, rows with indexes i and i + 1 for some integer i (1 ≤ i < 5).\n",
        "Swap two neighboring matrix columns, that is, columns with indexes j and j + 1 for some integer j (1 ≤ j < 5).\n",
        "You think that a matrix looks beautiful, if the single number one of the matrix is located in its middle (in the cell that is on the intersection of the third row and the third column). Count the minimum number of moves needed to make the matrix beautiful.\n",
        "\n",
        "*Input:* The input consists of five lines, each line contains five integers: the j-th integer in the i-th line of the input represents the element of the matrix that is located on the intersection of the i-th row and the j-th column. It is guaranteed that the matrix consists of 24 zeroes and a single number one.\n",
        "\n",
        "*Output:* Print a single integer — the minimum number of moves needed to make the matrix beautiful.\n",
        "\n",
        "###Examples:\n",
        "```\n",
        "Input-1\n",
        "0 0 0 0 0\n",
        "0 0 0 0 1\n",
        "0 0 0 0 0\n",
        "0 0 0 0 0\n",
        "0 0 0 0 0\n",
        "```\n",
        "```\n",
        "Output-1\n",
        "3\n",
        "```\n",
        "```\n",
        "Input-2\n",
        "0 0 0 0 0\n",
        "0 0 0 0 0\n",
        "0 1 0 0 0\n",
        "0 0 0 0 0\n",
        "0 0 0 0 0\n",
        "```\n",
        "```\n",
        "Output-2\n",
        "1\n",
        "```"
      ],
      "metadata": {
        "id": "P-sg0ZcZVuT4"
      }
    },
    {
      "cell_type": "code",
      "execution_count": 1,
      "metadata": {
        "colab": {
          "base_uri": "https://localhost:8080/"
        },
        "id": "SrOQ7CgUVnW1",
        "outputId": "d4bbdc59-9539-4429-e242-340f11ba34fe"
      },
      "outputs": [
        {
          "output_type": "stream",
          "name": "stdout",
          "text": [
            "1 0 0 0 0\n",
            "0 0 0 0 0\n",
            "0 0 0 0 0\n",
            "0 0 0 0 0\n",
            "0 0 0 0 0\n",
            "4\n"
          ]
        }
      ],
      "source": [
        "#  Solution:\n",
        "lst = []\n",
        "for x in range(5):\n",
        "    row = list(map(int, input().split()))\n",
        "    lst.append(row)\n",
        "\n",
        "x = 1\n",
        "for i in lst:\n",
        "    y = 1\n",
        "    for j in i:\n",
        "        if j == 1:\n",
        "            row = x\n",
        "            col = y\n",
        "            break\n",
        "        y += 1\n",
        "    x += 1\n",
        "\n",
        "col_move = abs(3 - col)\n",
        "row_move = abs(3 - row)\n",
        "print(row_move + col_move)\n"
      ]
    },
    {
      "cell_type": "markdown",
      "source": [
        "\n",
        "# Explanation:\n",
        "\n",
        "This code reads a 5x5 grid, identifies the position of the number `1`, and calculates how many moves are required to move the `1` to the center of the grid ```position (3, 3)```.\n",
        "\n",
        "1. **Input the 5x5 grid:** The program reads 5 lines of input, each containing 5 integers (0 or 1), and stores these rows in a list `lst`.\n",
        "\n",
        "2. **Identify the position of `1`:**\n",
        "   - The program iterates through each row of the grid (`lst`) using two nested loops. The outer loop tracks the rows (`x`), and the inner loop tracks the columns (`y`).\n",
        "   - When the value `1` is found, it stores the current row and column positions in `row` and `col` and breaks the for loop.\n",
        "\n",
        "3. **Calculate the number of moves to center the `1`:** Once the position of `1` is identified, the program calculates the row and column moves required to bring it to the center position (3, 3).\n",
        "     - **Row moves**: `abs(3 - row)`\n",
        "     - **Column moves**: `abs(3 - col)`\n",
        "\n",
        "4. **Output the result:** The total number of moves required is the sum of the row and column moves, which is then printed."
      ],
      "metadata": {
        "id": "G4S6kIY8WzaN"
      }
    }
  ]
}
