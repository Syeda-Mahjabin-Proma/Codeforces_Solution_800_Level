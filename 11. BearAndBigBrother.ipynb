{
  "nbformat": 4,
  "nbformat_minor": 0,
  "metadata": {
    "colab": {
      "provenance": []
    },
    "kernelspec": {
      "name": "python3",
      "display_name": "Python 3"
    },
    "language_info": {
      "name": "python"
    }
  },
  "cells": [
    {
      "cell_type": "markdown",
      "source": [
        "#**A. Bear and Big Brother**\n",
        "*Time limit per test: 1 second & Memory limit per test: 256 megabytes.*\n",
        "\n",
        "<br>\n",
        "\n",
        "*Problem:* Bear Limak wants to become the largest of bears, or at least to become larger than his brother Bob.\n",
        "\n",
        "Right now, Limak and Bob weigh a and b respectively. It's guaranteed that Limak's weight is smaller than or equal to his brother's weight.\n",
        "\n",
        "Limak eats a lot and his weight is tripled after every year, while Bob's weight is doubled after every year.\n",
        "\n",
        "After how many full years will Limak become strictly larger (strictly heavier) than Bob?\n",
        "\n",
        "<br>\n",
        "\n",
        "*Input:* The only line of the input contains two integers a and b (1 ≤ a ≤ b ≤ 10) — the weight of Limak and the weight of Bob respectively.\n",
        "\n",
        "*Output:* Print one integer, denoting the integer number of years after which Limak will become strictly larger than Bob.\n",
        "\n",
        "## Examples:\n",
        "\n",
        "```\n",
        "Input:\n",
        "4 7\n",
        "\n",
        "Output:\n",
        "2\n",
        "```\n",
        "```\n",
        "Input:\n",
        "4 9\n",
        "\n",
        "Output:\n",
        "3\n",
        "```\n",
        "```\n",
        "Input:\n",
        "1 1\n",
        "\n",
        "Output:\n",
        "1\n",
        "```\n",
        "\n",
        "*Note*\n",
        "- In the first sample, Limak weighs 4 and Bob weighs 7 initially. After one year their weights are 4·3 = 12 and 7·2 = 14 respectively (one weight is tripled while the other one is doubled). Limak isn't larger than Bob yet. After the second year weights are 36 and 28, so the first weight is greater than the second one. Limak became larger than Bob after two years so you should print 2.\n",
        "\n",
        "- In the second sample, Limak's and Bob's weights in next years are: 12 and 18, then 36 and 36, and finally 108 and 72 (after three years). The answer is 3. Remember that Limak wants to be larger than Bob and he won't be satisfied with equal weights.\n",
        "\n",
        "- In the third sample, Limak becomes larger than Bob after the first year. Their weights will be 3 and 2 then."
      ],
      "metadata": {
        "id": "DZvXL6hBo4CW"
      }
    },
    {
      "cell_type": "code",
      "execution_count": 1,
      "metadata": {
        "id": "VKwWYqzboR7m"
      },
      "outputs": [],
      "source": [
        "# Solution:\n",
        "a, b = map(int, input().split())\n",
        "x = 1\n",
        "while True:\n",
        "    a = a * 3\n",
        "    b = b * 2\n",
        "    if a > b:\n",
        "        print(x)\n",
        "        break\n",
        "    else:\n",
        "        x += 1\n"
      ]
    },
    {
      "cell_type": "markdown",
      "source": [
        "# Explanation:\n",
        "\n",
        "1. **Input:** The program takes two integers, `a` and `b`, from user input.\n",
        "\n",
        "2. **Looping with Growth Factors:**\n",
        "   - It initializes a counter variable `x` to track the number of iterations (years).\n",
        "   - In each iteration:\n",
        "     - `a` is multiplied by 3.\n",
        "     - `b` is multiplied by 2.\n",
        "\n",
        "3. **Condition Check:**\n",
        "   - After updating the values of `a` and `b`, it checks if `a` has become greater than `b`.\n",
        "   - If `a > b`, it prints the current value of `x` (number of iterations) and exits the loop.\n",
        "   - If `a` is still less than or equal to `b`, the counter `x` is incremented, and the loop continues.\n"
      ],
      "metadata": {
        "id": "o5Gj8_GMqL_Z"
      }
    },
    {
      "cell_type": "code",
      "source": [],
      "metadata": {
        "id": "67-L-3S9rPNg"
      },
      "execution_count": null,
      "outputs": []
    }
  ]
}